{
 "cells": [
  {
   "cell_type": "markdown",
   "metadata": {},
   "source": [
    "# Proyecto 7: Deploy de sistema de recomendación con Watson\n",
    "\n",
    "En este proyecto llevaremos a cabo la puesta en producción del modelo entrenado en el proyecto 5. Es decir, lo subirmos la nube de IBM y utilizando llamados a la API de Watson tendremos acceso a él para realizar predicciones."
   ]
  },
  {
   "cell_type": "code",
   "execution_count": 1,
   "metadata": {},
   "outputs": [],
   "source": [
    "import warnings\n",
    "warnings.filterwarnings(\"ignore\")\n",
    "import sklearn\n",
    "from sklearn.datasets import load_files\n",
    "moviedir = r'./movie_reviews' \n",
    "movie_reviews = load_files(moviedir, shuffle=True)"
   ]
  },
  {
   "cell_type": "code",
   "execution_count": 2,
   "metadata": {},
   "outputs": [],
   "source": [
    "from sklearn.model_selection import train_test_split\n",
    "X_train, X_test, y_train, y_test = train_test_split(\n",
    "    movie_reviews.data, movie_reviews.target, test_size = 0.20, stratify=movie_reviews.target, random_state = 12)"
   ]
  },
  {
   "cell_type": "code",
   "execution_count": 3,
   "metadata": {},
   "outputs": [],
   "source": [
    "from sklearn.externals import joblib\n",
    "eclf = joblib.load('sentiment.pkl') "
   ]
  },
  {
   "cell_type": "markdown",
   "metadata": {},
   "source": [
    "IBM Watson"
   ]
  },
  {
   "cell_type": "markdown",
   "metadata": {},
   "source": [
    "**1) Cargá** la biblioteca `WatsonMachineLearningAPIClient`"
   ]
  },
  {
   "cell_type": "code",
   "execution_count": 4,
   "metadata": {},
   "outputs": [],
   "source": [
    "from watson_machine_learning_client import WatsonMachineLearningAPIClient"
   ]
  },
  {
   "cell_type": "markdown",
   "metadata": {},
   "source": [
    "**2) Creá** variable con las credenciales que necesita `Watson`. Ellas son: `url, access_key, username, password e instance_id`"
   ]
  },
  {
   "cell_type": "code",
   "execution_count": 5,
   "metadata": {},
   "outputs": [],
   "source": [
    "wml_credentials={\n",
    "  \"apikey\": \"ecLhS-sB8eN4hYbaMZJiG7G9o9tVOBHwKkHakrbzNuVm\",\n",
    "  \"iam_apikey_description\": \"Auto-generated for key b5870580-962a-45c7-86ac-64bfc9879a3b\",\n",
    "  \"iam_apikey_name\": \"Credenciales de servicio-1\",\n",
    "  \"iam_role_crn\": \"crn:v1:bluemix:public:iam::::serviceRole:Writer\",\n",
    "  \"iam_serviceid_crn\": \"crn:v1:bluemix:public:iam-identity::a/9fdd614649ae4cac90110a30b8dbcda9::serviceid:ServiceId-11378b29-d8ca-4f7e-b6ed-b637e3243800\",\n",
    "  \"instance_id\": \"4d49298d-3f83-41e6-a5b4-9076cc779b94\",\n",
    "  \"url\": \"https://us-south.ml.cloud.ibm.com\"\n",
    "}"
   ]
  },
  {
   "cell_type": "markdown",
   "metadata": {},
   "source": [
    "**3) Declará** la variable `client` y guardá en ella al objeto `WatsonMachineLearningAPIClient` con las credenciales como parámetro"
   ]
  },
  {
   "cell_type": "code",
   "execution_count": 6,
   "metadata": {},
   "outputs": [],
   "source": [
    "client=WatsonMachineLearningAPIClient(wml_credentials)"
   ]
  },
  {
   "cell_type": "markdown",
   "metadata": {},
   "source": [
    "**4) Creá** una variable que guarde las propiedades del modelo. Datos del autor y nombre del proyecto."
   ]
  },
  {
   "cell_type": "code",
   "execution_count": 7,
   "metadata": {},
   "outputs": [],
   "source": [
    "model_props={client.repository.ModelMetaNames.AUTHOR_NAME: \"Gabriela Rau\", \n",
    "               client.repository.ModelMetaNames.NAME: \"Modelo_Entrega7\",\n",
    "               client.repository.DefinitionMetaNames.RUNTIME_NAME: 'python',\n",
    "               client.repository.DefinitionMetaNames.RUNTIME_VERSION: '3.6'}"
   ]
  },
  {
   "cell_type": "markdown",
   "metadata": {},
   "source": [
    "**5) Hacé** un pipeline que contenga como primer paso a un `TfidfVectorizer` y como segundo paso, al mejor modelo que hayas obtenido en el proyecto 5. **Entrená** con este pipeline."
   ]
  },
  {
   "cell_type": "code",
   "execution_count": 13,
   "metadata": {},
   "outputs": [],
   "source": [
    "#librería tf-idf\n",
    "from sklearn.feature_extraction.text import TfidfVectorizer\n",
    "#librería papeline\n",
    "from sklearn.pipeline import Pipeline\n",
    "from sklearn.pipeline import make_pipeline\n",
    "\n",
    "tfidf_vect=TfidfVectorizer()"
   ]
  },
  {
   "cell_type": "code",
   "execution_count": 14,
   "metadata": {},
   "outputs": [
    {
     "data": {
      "text/plain": [
       "Pipeline(memory=None,\n",
       "         steps=[('tfidf_vect',\n",
       "                 TfidfVectorizer(analyzer='word', binary=False,\n",
       "                                 decode_error='strict',\n",
       "                                 dtype=<class 'numpy.float64'>,\n",
       "                                 encoding='utf-8', input='content',\n",
       "                                 lowercase=True, max_df=1.0, max_features=None,\n",
       "                                 min_df=1, ngram_range=(1, 1), norm='l2',\n",
       "                                 preprocessor=None, smooth_idf=True,\n",
       "                                 stop_words=None, strip_accents=None,\n",
       "                                 sublinear_tf=False,\n",
       "                                 token_patt...\n",
       "                                                                                                        max_depth=2,\n",
       "                                                                                                        max_features=None,\n",
       "                                                                                                        max_leaf_nodes=None,\n",
       "                                                                                                        min_impurity_decrease=0.0,\n",
       "                                                                                                        min_impurity_split=None,\n",
       "                                                                                                        min_samples_leaf=1,\n",
       "                                                                                                        min_samples_split=2,\n",
       "                                                                                                        min_weight_fraction_leaf=0.0,\n",
       "                                                                                                        presort='deprecated',\n",
       "                                                                                                        random_state=None,\n",
       "                                                                                                        splitter='best'),\n",
       "                                                                  learning_rate=1.0,\n",
       "                                                                  n_estimators=50,\n",
       "                                                                  random_state=None))],\n",
       "                                  flatten_transform=True, n_jobs=None,\n",
       "                                  voting='hard', weights=None))],\n",
       "         verbose=False)"
      ]
     },
     "execution_count": 14,
     "metadata": {},
     "output_type": "execute_result"
    }
   ],
   "source": [
    "pipeline=Pipeline([('tfidf_vect',tfidf_vect),('eclf',eclf)])\n",
    "pipeline.fit(X_train, y_train)"
   ]
  },
  {
   "cell_type": "markdown",
   "metadata": {},
   "source": [
    "**6) Subí** al modelo a IBM Cloud usando `client.repository.store_model` con los parámetros correctos."
   ]
  },
  {
   "cell_type": "code",
   "execution_count": 15,
   "metadata": {},
   "outputs": [],
   "source": [
    "published_model=client.repository.store_model(model=pipeline, \n",
    "                                                meta_props=model_props, \n",
    "                                                training_data=X_train, \n",
    "                                                training_target=y_train)"
   ]
  },
  {
   "cell_type": "markdown",
   "metadata": {},
   "source": [
    "**7) Obtené** el `uid` del modelo y guardalo en una variable."
   ]
  },
  {
   "cell_type": "code",
   "execution_count": 16,
   "metadata": {
    "scrolled": true
   },
   "outputs": [],
   "source": [
    "published_model_uid = client.repository.get_model_uid(published_model)\n",
    "model_details = client.repository.get_details(published_model_uid)"
   ]
  },
  {
   "cell_type": "code",
   "execution_count": 17,
   "metadata": {
    "scrolled": true
   },
   "outputs": [
    {
     "name": "stdout",
     "output_type": "stream",
     "text": [
      "------------------------------------  ------------------------  ------------------------  -----------------\n",
      "GUID                                  NAME                      CREATED                   FRAMEWORK\n",
      "fc15d03b-cad0-4404-8225-8ad12c249cab  Modelo_Entrega7           2020-05-12T01:59:43.475Z  scikit-learn-0.22\n",
      "719b5f76-6536-41a3-9c5f-3d932f7d1482  Modelo_Entrega7           2020-05-07T23:48:46.604Z  scikit-learn-0.22\n",
      "79b83dc1-559f-4f79-8244-17752997b04e  Modelo_Entrega7           2020-05-07T23:42:07.376Z  scikit-learn-0.22\n",
      "87f1027c-498a-4ca4-afa5-8725b0d636f8  Modelo_Entrega7           2020-05-07T23:38:51.157Z  scikit-learn-0.22\n",
      "b69897ca-06fa-4389-ae15-6f40bbcf35a6  Modelo_Entrega7           2020-05-07T23:38:30.018Z  scikit-learn-0.22\n",
      "28b60cd9-c9e4-4a4b-bada-6a1a0baa937e  Primer modelo en la nube  2020-05-07T04:16:07.342Z  scikit-learn-0.22\n",
      "------------------------------------  ------------------------  ------------------------  -----------------\n"
     ]
    }
   ],
   "source": [
    "models_details=client.repository.list_models()"
   ]
  },
  {
   "cell_type": "markdown",
   "metadata": {},
   "source": [
    "**8) Cargá** el modelo basado en su `uid` y utilizalo para realizar la predicción sobre el conjunto de test"
   ]
  },
  {
   "cell_type": "code",
   "execution_count": 18,
   "metadata": {},
   "outputs": [],
   "source": [
    "loaded_model = client.repository.load(published_model_uid)\n",
    "test_predictions = loaded_model.predict(X_test)"
   ]
  },
  {
   "cell_type": "markdown",
   "metadata": {},
   "source": [
    "**9) Mostrar** el `classification_report` obtenido"
   ]
  },
  {
   "cell_type": "code",
   "execution_count": 19,
   "metadata": {},
   "outputs": [
    {
     "name": "stdout",
     "output_type": "stream",
     "text": [
      "roc_auc score:  0.8575\n",
      "              precision    recall  f1-score   support\n",
      "\n",
      "           0       0.82      0.92      0.87       200\n",
      "           1       0.90      0.80      0.85       200\n",
      "\n",
      "    accuracy                           0.86       400\n",
      "   macro avg       0.86      0.86      0.86       400\n",
      "weighted avg       0.86      0.86      0.86       400\n",
      "\n"
     ]
    }
   ],
   "source": [
    "from sklearn.metrics import roc_auc_score\n",
    "from sklearn.metrics import classification_report\n",
    "\n",
    "print(\"roc_auc score: \", roc_auc_score(y_test, test_predictions))\n",
    "print(classification_report(y_test, test_predictions))"
   ]
  }
 ],
 "metadata": {
  "kernelspec": {
   "display_name": "Python 3",
   "language": "python",
   "name": "python3"
  },
  "language_info": {
   "codemirror_mode": {
    "name": "ipython",
    "version": 3
   },
   "file_extension": ".py",
   "mimetype": "text/x-python",
   "name": "python",
   "nbconvert_exporter": "python",
   "pygments_lexer": "ipython3",
   "version": "3.8.10"
  }
 },
 "nbformat": 4,
 "nbformat_minor": 2
}
