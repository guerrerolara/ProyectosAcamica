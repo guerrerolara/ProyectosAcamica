{
 "cells": [
  {
   "cell_type": "markdown",
   "metadata": {},
   "source": [
    "# Proyecto: Análisis mercado inmobiliario de la Ciudad de Buenos Aires"
   ]
  },
  {
   "cell_type": "markdown",
   "metadata": {},
   "source": [
    "¡Bienvenidos al primer proyecto de la carrera de Data Science de Acamica! \n",
    "\n",
    "En este proyecto vamos a trabajar con un dataset de propiedades en venta publicadas en el portal [Properati](www.properati.com.ar). El objetivo es dar los primeros pasos en el proceso de exploración de datos usando las herramientas que trabajamos en las activades.\n",
    "\n",
    "Vamos a enfocarnos en analizar algunos aspectos del mercado inmobiliario de la Ciudad de Buenos Aires pero para eso primero debemos limpiar un poco el dataset."
   ]
  },
  {
   "cell_type": "markdown",
   "metadata": {},
   "source": [
    "## El dataset: propiedades en venta en Ciudad de Buenos Aires."
   ]
  },
  {
   "cell_type": "markdown",
   "metadata": {},
   "source": [
    "En este proyecto, trabajaremos con una muestra del conjunto de datos de propiedades en venta mencionado. En este dataset, cada fila es una propiedad en venta. \n",
    "\n",
    "## Los atributos\n",
    "A continuación vamos a describir los atributos que consideramos en esta muestra:\n",
    "\n",
    "* **id**: id de la propiedad\n",
    "* **created_on**: fecha en la que la propiedad ingresó al sitio\n",
    "* **operation**: alquiler (rent) o venta (sell)\n",
    "* **property_type**: tipo de propiedad (casa, departamento, ph, etcétera)\n",
    "* **place_with_parent_names**: nombre del lugar donde se encuentra la propiedad según el publicador\n",
    "* **lat-lon**: coordenadas concatenadas\n",
    "* **lat**: latitud\n",
    "* **lon**: longitud\n",
    "* **price**: precio en la moneda especificada en currency\n",
    "* **currency**: divisa en la que está expresada la publicación\n",
    "* **price_aprox_usd**: precio aproximado en dólares estadounidenses\n",
    "* **surface_total_in_m2**: superficie total (en metros cuadrados)\n",
    "* **surface_covered_in_m2**: superficie cubierta (en metros cuadrados)\n",
    "* **price_usd_per_m2**: precio por metro cuadrado en dólares (precio dólares / superficie)\n",
    "* **floor**: número de piso (si corresponde)\n",
    "* **rooms**: cantidad de ambientes\n",
    "* **expenses**: expensas (si corresponde)\n",
    "* **barrio**: barrio según cartografía oficial\n",
    "* **properati_url**: url de la publicación en Properati\n"
   ]
  },
  {
   "cell_type": "markdown",
   "metadata": {},
   "source": [
    "## Importando las bibliotecas necesarias\n",
    "\n",
    "Para poder trabajar en la limpieza de datos y la visualización de nuestro dataset vamos a utilizar las bibliotecas numpy, pandas, matplotlib.pylab y seaborn. \n",
    "\n",
    "** 1) Importá ** cada una de ellas con los siguientes nombres: \n",
    "- **numpy** como **np**\n",
    "- **pandas** como **pd**\n",
    "- **matplotlib.pylab** como **plt**\n",
    "- **seaborn** como **sns**\n"
   ]
  },
  {
   "cell_type": "code",
   "execution_count": 1,
   "metadata": {},
   "outputs": [],
   "source": [
    "# Importar bibliotecas en esta celda\n",
    "import numpy as np\n",
    "import pandas as pd\n",
    "import matplotlib.pylab as plt\n",
    "import seaborn as sns"
   ]
  },
  {
   "cell_type": "code",
   "execution_count": 2,
   "metadata": {},
   "outputs": [],
   "source": [
    "# La siguiente línea es para ver las imagenes dentro del notebook\n",
    "%matplotlib inline\n",
    "# Acá configuramos el tamaño de las figuras\n",
    "plt.rcParams['figure.figsize'] = (12,8)\n",
    "# Seteamos opciones de pandas sobre las columnas y su ancho\n",
    "pd.set_option('max_columns', 120)\n",
    "pd.set_option('max_colwidth', 5000)\n"
   ]
  },
  {
   "cell_type": "markdown",
   "metadata": {},
   "source": [
    "## Cargando dataset de propiedades\n",
    "\n",
    "**2) Cargá** el dataset que se encuentra en la carpeta *dataset/* y guardalo en una variable llamada **df**. \n",
    "No te olvides de utilizar **parse_dates** sobre la columna **created_on**\n"
   ]
  },
  {
   "cell_type": "code",
   "execution_count": 3,
   "metadata": {},
   "outputs": [
    {
     "data": {
      "text/html": [
       "<div>\n",
       "<style scoped>\n",
       "    .dataframe tbody tr th:only-of-type {\n",
       "        vertical-align: middle;\n",
       "    }\n",
       "\n",
       "    .dataframe tbody tr th {\n",
       "        vertical-align: top;\n",
       "    }\n",
       "\n",
       "    .dataframe thead th {\n",
       "        text-align: right;\n",
       "    }\n",
       "</style>\n",
       "<table border=\"1\" class=\"dataframe\">\n",
       "  <thead>\n",
       "    <tr style=\"text-align: right;\">\n",
       "      <th></th>\n",
       "      <th>created_on</th>\n",
       "      <th>operation</th>\n",
       "      <th>property_type</th>\n",
       "      <th>place_with_parent_names</th>\n",
       "      <th>lat-lon</th>\n",
       "      <th>lat</th>\n",
       "      <th>lon</th>\n",
       "      <th>price_aprox_usd</th>\n",
       "      <th>surface_total_in_m2</th>\n",
       "      <th>surface_covered_in_m2</th>\n",
       "      <th>price_usd_per_m2</th>\n",
       "      <th>floor</th>\n",
       "      <th>rooms</th>\n",
       "      <th>expenses</th>\n",
       "      <th>properati_url</th>\n",
       "      <th>barrio</th>\n",
       "      <th>comuna</th>\n",
       "    </tr>\n",
       "  </thead>\n",
       "  <tbody>\n",
       "    <tr>\n",
       "      <td>0</td>\n",
       "      <td>2017-09-22</td>\n",
       "      <td>sell</td>\n",
       "      <td>house</td>\n",
       "      <td>|Argentina|Capital Federal|Palermo|Palermo Viejo|</td>\n",
       "      <td>-34.5889531469,-58.4298817776</td>\n",
       "      <td>-34.588953</td>\n",
       "      <td>-58.429882</td>\n",
       "      <td>2000000.00</td>\n",
       "      <td>312.0</td>\n",
       "      <td>NaN</td>\n",
       "      <td>6410.256410</td>\n",
       "      <td>NaN</td>\n",
       "      <td>NaN</td>\n",
       "      <td>NaN</td>\n",
       "      <td>https://www.properati.com.ar/2os_venta_casa_palermo-viejo_rent-ba</td>\n",
       "      <td>PALERMO</td>\n",
       "      <td>14.0</td>\n",
       "    </tr>\n",
       "    <tr>\n",
       "      <td>1</td>\n",
       "      <td>2017-08-01</td>\n",
       "      <td>sell</td>\n",
       "      <td>store</td>\n",
       "      <td>|Argentina|Capital Federal|Palermo|</td>\n",
       "      <td>-34.586069,-58.414431</td>\n",
       "      <td>-34.586069</td>\n",
       "      <td>-58.414431</td>\n",
       "      <td>790000.00</td>\n",
       "      <td>121.0</td>\n",
       "      <td>121.0</td>\n",
       "      <td>6528.925620</td>\n",
       "      <td>NaN</td>\n",
       "      <td>NaN</td>\n",
       "      <td>NaN</td>\n",
       "      <td>https://www.properati.com.ar/1cl7l_venta_local_palermo_santa-fe-av-al-3500_sotano_garage_subte-linea-d_deptos-temporarios</td>\n",
       "      <td>PALERMO</td>\n",
       "      <td>14.0</td>\n",
       "    </tr>\n",
       "    <tr>\n",
       "      <td>2</td>\n",
       "      <td>2017-08-02</td>\n",
       "      <td>sell</td>\n",
       "      <td>store</td>\n",
       "      <td>|Argentina|Capital Federal|Palermo|Palermo Soho|</td>\n",
       "      <td>-34.589723,-58.4325664</td>\n",
       "      <td>-34.589723</td>\n",
       "      <td>-58.432566</td>\n",
       "      <td>343000.00</td>\n",
       "      <td>122.0</td>\n",
       "      <td>108.0</td>\n",
       "      <td>2811.475410</td>\n",
       "      <td>NaN</td>\n",
       "      <td>2.0</td>\n",
       "      <td>NaN</td>\n",
       "      <td>https://www.properati.com.ar/1cm8w_venta_local_palermo-soho_cabrera-jose-a-_5000_jardin_lavadero_patio_piscina_toilette_garage_ojo-propiedades</td>\n",
       "      <td>PALERMO</td>\n",
       "      <td>14.0</td>\n",
       "    </tr>\n",
       "    <tr>\n",
       "      <td>3</td>\n",
       "      <td>2017-08-03</td>\n",
       "      <td>sell</td>\n",
       "      <td>store</td>\n",
       "      <td>|Argentina|Capital Federal|Palermo|</td>\n",
       "      <td>-34.5923646,-58.4144028</td>\n",
       "      <td>-34.592365</td>\n",
       "      <td>-58.414403</td>\n",
       "      <td>145000.00</td>\n",
       "      <td>24.0</td>\n",
       "      <td>24.0</td>\n",
       "      <td>6041.666667</td>\n",
       "      <td>NaN</td>\n",
       "      <td>NaN</td>\n",
       "      <td>NaN</td>\n",
       "      <td>https://www.properati.com.ar/1covk_venta_local_palermo_paraguay-al-3500_subte-linea-d_brick-propiedades-local-alto-palermo</td>\n",
       "      <td>PALERMO</td>\n",
       "      <td>14.0</td>\n",
       "    </tr>\n",
       "    <tr>\n",
       "      <td>4</td>\n",
       "      <td>2017-08-08</td>\n",
       "      <td>sell</td>\n",
       "      <td>store</td>\n",
       "      <td>|Argentina|Capital Federal|Barrio Norte|</td>\n",
       "      <td>-34.585652875,-58.4114933233</td>\n",
       "      <td>-34.585653</td>\n",
       "      <td>-58.411493</td>\n",
       "      <td>175000.00</td>\n",
       "      <td>24.0</td>\n",
       "      <td>24.0</td>\n",
       "      <td>7291.666667</td>\n",
       "      <td>NaN</td>\n",
       "      <td>NaN</td>\n",
       "      <td>NaN</td>\n",
       "      <td>https://www.properati.com.ar/1csk7_venta_local_barrio-norte_subte-linea-d_aranalfe_e1j</td>\n",
       "      <td>PALERMO</td>\n",
       "      <td>14.0</td>\n",
       "    </tr>\n",
       "    <tr>\n",
       "      <td>...</td>\n",
       "      <td>...</td>\n",
       "      <td>...</td>\n",
       "      <td>...</td>\n",
       "      <td>...</td>\n",
       "      <td>...</td>\n",
       "      <td>...</td>\n",
       "      <td>...</td>\n",
       "      <td>...</td>\n",
       "      <td>...</td>\n",
       "      <td>...</td>\n",
       "      <td>...</td>\n",
       "      <td>...</td>\n",
       "      <td>...</td>\n",
       "      <td>...</td>\n",
       "      <td>...</td>\n",
       "      <td>...</td>\n",
       "      <td>...</td>\n",
       "    </tr>\n",
       "    <tr>\n",
       "      <td>18974</td>\n",
       "      <td>2018-01-08</td>\n",
       "      <td>sell</td>\n",
       "      <td>apartment</td>\n",
       "      <td>|Argentina|Capital Federal|Villa Soldati|</td>\n",
       "      <td>-34.668741,-58.443146</td>\n",
       "      <td>-34.668741</td>\n",
       "      <td>-58.443146</td>\n",
       "      <td>60000.00</td>\n",
       "      <td>55.0</td>\n",
       "      <td>55.0</td>\n",
       "      <td>1090.909091</td>\n",
       "      <td>NaN</td>\n",
       "      <td>3.0</td>\n",
       "      <td>NaN</td>\n",
       "      <td>https://www.properati.com.ar/1jcpm_venta_departamento_villa-soldati_roca-cnel-av-_3500_subte-premetro_re-max-parque</td>\n",
       "      <td>VILLA SOLDATI</td>\n",
       "      <td>8.0</td>\n",
       "    </tr>\n",
       "    <tr>\n",
       "      <td>18975</td>\n",
       "      <td>2018-01-23</td>\n",
       "      <td>sell</td>\n",
       "      <td>house</td>\n",
       "      <td>|Argentina|Capital Federal|Villa Soldati|</td>\n",
       "      <td>-34.66417,-58.443317</td>\n",
       "      <td>-34.664170</td>\n",
       "      <td>-58.443317</td>\n",
       "      <td>99000.00</td>\n",
       "      <td>115.0</td>\n",
       "      <td>82.0</td>\n",
       "      <td>860.869565</td>\n",
       "      <td>NaN</td>\n",
       "      <td>3.0</td>\n",
       "      <td>NaN</td>\n",
       "      <td>https://www.properati.com.ar/1k1hs_venta_casa_villa-soldati_lavadero_parrilla_terraza_garage_placard_subte-premetro_re-max-acci-oacute-n</td>\n",
       "      <td>VILLA SOLDATI</td>\n",
       "      <td>8.0</td>\n",
       "    </tr>\n",
       "    <tr>\n",
       "      <td>18976</td>\n",
       "      <td>2018-01-24</td>\n",
       "      <td>sell</td>\n",
       "      <td>store</td>\n",
       "      <td>|Argentina|Capital Federal|Villa Soldati|</td>\n",
       "      <td>-34.6618136,-58.426504</td>\n",
       "      <td>-34.661814</td>\n",
       "      <td>-58.426504</td>\n",
       "      <td>3300000.00</td>\n",
       "      <td>NaN</td>\n",
       "      <td>4162.0</td>\n",
       "      <td>NaN</td>\n",
       "      <td>NaN</td>\n",
       "      <td>NaN</td>\n",
       "      <td>NaN</td>\n",
       "      <td>https://www.properati.com.ar/1k1mv_venta_local_villa-soldati_aire-acondicionado_ana-simeone-inmuebles-corporativos_9ia</td>\n",
       "      <td>VILLA SOLDATI</td>\n",
       "      <td>8.0</td>\n",
       "    </tr>\n",
       "    <tr>\n",
       "      <td>18977</td>\n",
       "      <td>2018-01-27</td>\n",
       "      <td>sell</td>\n",
       "      <td>apartment</td>\n",
       "      <td>|Argentina|Capital Federal|Villa Soldati|</td>\n",
       "      <td>-34.665005,-58.443041</td>\n",
       "      <td>-34.665005</td>\n",
       "      <td>-58.443041</td>\n",
       "      <td>50433.01</td>\n",
       "      <td>45.0</td>\n",
       "      <td>45.0</td>\n",
       "      <td>1120.733556</td>\n",
       "      <td>NaN</td>\n",
       "      <td>3.0</td>\n",
       "      <td>NaN</td>\n",
       "      <td>https://www.properati.com.ar/1k5v0_venta_departamento_villa-soldati_lavadero_subte-premetro_re-max-ayres</td>\n",
       "      <td>VILLA SOLDATI</td>\n",
       "      <td>8.0</td>\n",
       "    </tr>\n",
       "    <tr>\n",
       "      <td>18978</td>\n",
       "      <td>2018-01-27</td>\n",
       "      <td>sell</td>\n",
       "      <td>apartment</td>\n",
       "      <td>|Argentina|Capital Federal|Villa Lugano|</td>\n",
       "      <td>-34.664283,-58.469604</td>\n",
       "      <td>-34.664283</td>\n",
       "      <td>-58.469604</td>\n",
       "      <td>75000.00</td>\n",
       "      <td>60.0</td>\n",
       "      <td>58.0</td>\n",
       "      <td>1250.000000</td>\n",
       "      <td>9.0</td>\n",
       "      <td>3.0</td>\n",
       "      <td>NaN</td>\n",
       "      <td>https://www.properati.com.ar/1k5x2_venta_departamento_villa-lugano_balcon_lavadero_sum_re-max-accion-ii</td>\n",
       "      <td>VILLA SOLDATI</td>\n",
       "      <td>8.0</td>\n",
       "    </tr>\n",
       "  </tbody>\n",
       "</table>\n",
       "<p>18979 rows × 17 columns</p>\n",
       "</div>"
      ],
      "text/plain": [
       "      created_on operation property_type  \\\n",
       "0     2017-09-22      sell         house   \n",
       "1     2017-08-01      sell         store   \n",
       "2     2017-08-02      sell         store   \n",
       "3     2017-08-03      sell         store   \n",
       "4     2017-08-08      sell         store   \n",
       "...          ...       ...           ...   \n",
       "18974 2018-01-08      sell     apartment   \n",
       "18975 2018-01-23      sell         house   \n",
       "18976 2018-01-24      sell         store   \n",
       "18977 2018-01-27      sell     apartment   \n",
       "18978 2018-01-27      sell     apartment   \n",
       "\n",
       "                                 place_with_parent_names  \\\n",
       "0      |Argentina|Capital Federal|Palermo|Palermo Viejo|   \n",
       "1                    |Argentina|Capital Federal|Palermo|   \n",
       "2       |Argentina|Capital Federal|Palermo|Palermo Soho|   \n",
       "3                    |Argentina|Capital Federal|Palermo|   \n",
       "4               |Argentina|Capital Federal|Barrio Norte|   \n",
       "...                                                  ...   \n",
       "18974          |Argentina|Capital Federal|Villa Soldati|   \n",
       "18975          |Argentina|Capital Federal|Villa Soldati|   \n",
       "18976          |Argentina|Capital Federal|Villa Soldati|   \n",
       "18977          |Argentina|Capital Federal|Villa Soldati|   \n",
       "18978           |Argentina|Capital Federal|Villa Lugano|   \n",
       "\n",
       "                             lat-lon        lat        lon  price_aprox_usd  \\\n",
       "0      -34.5889531469,-58.4298817776 -34.588953 -58.429882       2000000.00   \n",
       "1              -34.586069,-58.414431 -34.586069 -58.414431        790000.00   \n",
       "2             -34.589723,-58.4325664 -34.589723 -58.432566        343000.00   \n",
       "3            -34.5923646,-58.4144028 -34.592365 -58.414403        145000.00   \n",
       "4       -34.585652875,-58.4114933233 -34.585653 -58.411493        175000.00   \n",
       "...                              ...        ...        ...              ...   \n",
       "18974          -34.668741,-58.443146 -34.668741 -58.443146         60000.00   \n",
       "18975           -34.66417,-58.443317 -34.664170 -58.443317         99000.00   \n",
       "18976         -34.6618136,-58.426504 -34.661814 -58.426504       3300000.00   \n",
       "18977          -34.665005,-58.443041 -34.665005 -58.443041         50433.01   \n",
       "18978          -34.664283,-58.469604 -34.664283 -58.469604         75000.00   \n",
       "\n",
       "       surface_total_in_m2  surface_covered_in_m2  price_usd_per_m2  floor  \\\n",
       "0                    312.0                    NaN       6410.256410    NaN   \n",
       "1                    121.0                  121.0       6528.925620    NaN   \n",
       "2                    122.0                  108.0       2811.475410    NaN   \n",
       "3                     24.0                   24.0       6041.666667    NaN   \n",
       "4                     24.0                   24.0       7291.666667    NaN   \n",
       "...                    ...                    ...               ...    ...   \n",
       "18974                 55.0                   55.0       1090.909091    NaN   \n",
       "18975                115.0                   82.0        860.869565    NaN   \n",
       "18976                  NaN                 4162.0               NaN    NaN   \n",
       "18977                 45.0                   45.0       1120.733556    NaN   \n",
       "18978                 60.0                   58.0       1250.000000    9.0   \n",
       "\n",
       "       rooms  expenses  \\\n",
       "0        NaN       NaN   \n",
       "1        NaN       NaN   \n",
       "2        2.0       NaN   \n",
       "3        NaN       NaN   \n",
       "4        NaN       NaN   \n",
       "...      ...       ...   \n",
       "18974    3.0       NaN   \n",
       "18975    3.0       NaN   \n",
       "18976    NaN       NaN   \n",
       "18977    3.0       NaN   \n",
       "18978    3.0       NaN   \n",
       "\n",
       "                                                                                                                                        properati_url  \\\n",
       "0                                                                                   https://www.properati.com.ar/2os_venta_casa_palermo-viejo_rent-ba   \n",
       "1                           https://www.properati.com.ar/1cl7l_venta_local_palermo_santa-fe-av-al-3500_sotano_garage_subte-linea-d_deptos-temporarios   \n",
       "2      https://www.properati.com.ar/1cm8w_venta_local_palermo-soho_cabrera-jose-a-_5000_jardin_lavadero_patio_piscina_toilette_garage_ojo-propiedades   \n",
       "3                          https://www.properati.com.ar/1covk_venta_local_palermo_paraguay-al-3500_subte-linea-d_brick-propiedades-local-alto-palermo   \n",
       "4                                                              https://www.properati.com.ar/1csk7_venta_local_barrio-norte_subte-linea-d_aranalfe_e1j   \n",
       "...                                                                                                                                               ...   \n",
       "18974                             https://www.properati.com.ar/1jcpm_venta_departamento_villa-soldati_roca-cnel-av-_3500_subte-premetro_re-max-parque   \n",
       "18975        https://www.properati.com.ar/1k1hs_venta_casa_villa-soldati_lavadero_parrilla_terraza_garage_placard_subte-premetro_re-max-acci-oacute-n   \n",
       "18976                          https://www.properati.com.ar/1k1mv_venta_local_villa-soldati_aire-acondicionado_ana-simeone-inmuebles-corporativos_9ia   \n",
       "18977                                        https://www.properati.com.ar/1k5v0_venta_departamento_villa-soldati_lavadero_subte-premetro_re-max-ayres   \n",
       "18978                                         https://www.properati.com.ar/1k5x2_venta_departamento_villa-lugano_balcon_lavadero_sum_re-max-accion-ii   \n",
       "\n",
       "              barrio  comuna  \n",
       "0            PALERMO    14.0  \n",
       "1            PALERMO    14.0  \n",
       "2            PALERMO    14.0  \n",
       "3            PALERMO    14.0  \n",
       "4            PALERMO    14.0  \n",
       "...              ...     ...  \n",
       "18974  VILLA SOLDATI     8.0  \n",
       "18975  VILLA SOLDATI     8.0  \n",
       "18976  VILLA SOLDATI     8.0  \n",
       "18977  VILLA SOLDATI     8.0  \n",
       "18978  VILLA SOLDATI     8.0  \n",
       "\n",
       "[18979 rows x 17 columns]"
      ]
     },
     "execution_count": 3,
     "metadata": {},
     "output_type": "execute_result"
    }
   ],
   "source": [
    "# cargá el dataset en esta celda\n",
    "df=pd.read_csv('datos_properati.csv', parse_dates=['created_on'])\n",
    "df"
   ]
  },
  {
   "cell_type": "markdown",
   "metadata": {},
   "source": [
    "## Exploración de datos"
   ]
  },
  {
   "cell_type": "markdown",
   "metadata": {},
   "source": [
    "Lo primero que vamos a hacer es ver qué forma tiene el dataset que acabamos de cargar. Para eso vamos a mostrar las primeras 3 entradas del mismo y utilizar la propiedad `shape` para ver la cantidad de instancias y atributos con los que vamos a estar trabajando."
   ]
  },
  {
   "cell_type": "code",
   "execution_count": 4,
   "metadata": {},
   "outputs": [
    {
     "name": "stdout",
     "output_type": "stream",
     "text": [
      "(18979, 17)\n"
     ]
    },
    {
     "data": {
      "text/html": [
       "<div>\n",
       "<style scoped>\n",
       "    .dataframe tbody tr th:only-of-type {\n",
       "        vertical-align: middle;\n",
       "    }\n",
       "\n",
       "    .dataframe tbody tr th {\n",
       "        vertical-align: top;\n",
       "    }\n",
       "\n",
       "    .dataframe thead th {\n",
       "        text-align: right;\n",
       "    }\n",
       "</style>\n",
       "<table border=\"1\" class=\"dataframe\">\n",
       "  <thead>\n",
       "    <tr style=\"text-align: right;\">\n",
       "      <th></th>\n",
       "      <th>created_on</th>\n",
       "      <th>operation</th>\n",
       "      <th>property_type</th>\n",
       "      <th>place_with_parent_names</th>\n",
       "      <th>lat-lon</th>\n",
       "      <th>lat</th>\n",
       "      <th>lon</th>\n",
       "      <th>price_aprox_usd</th>\n",
       "      <th>surface_total_in_m2</th>\n",
       "      <th>surface_covered_in_m2</th>\n",
       "      <th>price_usd_per_m2</th>\n",
       "      <th>floor</th>\n",
       "      <th>rooms</th>\n",
       "      <th>expenses</th>\n",
       "      <th>properati_url</th>\n",
       "      <th>barrio</th>\n",
       "      <th>comuna</th>\n",
       "    </tr>\n",
       "  </thead>\n",
       "  <tbody>\n",
       "    <tr>\n",
       "      <td>0</td>\n",
       "      <td>2017-09-22</td>\n",
       "      <td>sell</td>\n",
       "      <td>house</td>\n",
       "      <td>|Argentina|Capital Federal|Palermo|Palermo Viejo|</td>\n",
       "      <td>-34.5889531469,-58.4298817776</td>\n",
       "      <td>-34.588953</td>\n",
       "      <td>-58.429882</td>\n",
       "      <td>2000000.0</td>\n",
       "      <td>312.0</td>\n",
       "      <td>NaN</td>\n",
       "      <td>6410.25641</td>\n",
       "      <td>NaN</td>\n",
       "      <td>NaN</td>\n",
       "      <td>NaN</td>\n",
       "      <td>https://www.properati.com.ar/2os_venta_casa_palermo-viejo_rent-ba</td>\n",
       "      <td>PALERMO</td>\n",
       "      <td>14.0</td>\n",
       "    </tr>\n",
       "    <tr>\n",
       "      <td>1</td>\n",
       "      <td>2017-08-01</td>\n",
       "      <td>sell</td>\n",
       "      <td>store</td>\n",
       "      <td>|Argentina|Capital Federal|Palermo|</td>\n",
       "      <td>-34.586069,-58.414431</td>\n",
       "      <td>-34.586069</td>\n",
       "      <td>-58.414431</td>\n",
       "      <td>790000.0</td>\n",
       "      <td>121.0</td>\n",
       "      <td>121.0</td>\n",
       "      <td>6528.92562</td>\n",
       "      <td>NaN</td>\n",
       "      <td>NaN</td>\n",
       "      <td>NaN</td>\n",
       "      <td>https://www.properati.com.ar/1cl7l_venta_local_palermo_santa-fe-av-al-3500_sotano_garage_subte-linea-d_deptos-temporarios</td>\n",
       "      <td>PALERMO</td>\n",
       "      <td>14.0</td>\n",
       "    </tr>\n",
       "    <tr>\n",
       "      <td>2</td>\n",
       "      <td>2017-08-02</td>\n",
       "      <td>sell</td>\n",
       "      <td>store</td>\n",
       "      <td>|Argentina|Capital Federal|Palermo|Palermo Soho|</td>\n",
       "      <td>-34.589723,-58.4325664</td>\n",
       "      <td>-34.589723</td>\n",
       "      <td>-58.432566</td>\n",
       "      <td>343000.0</td>\n",
       "      <td>122.0</td>\n",
       "      <td>108.0</td>\n",
       "      <td>2811.47541</td>\n",
       "      <td>NaN</td>\n",
       "      <td>2.0</td>\n",
       "      <td>NaN</td>\n",
       "      <td>https://www.properati.com.ar/1cm8w_venta_local_palermo-soho_cabrera-jose-a-_5000_jardin_lavadero_patio_piscina_toilette_garage_ojo-propiedades</td>\n",
       "      <td>PALERMO</td>\n",
       "      <td>14.0</td>\n",
       "    </tr>\n",
       "  </tbody>\n",
       "</table>\n",
       "</div>"
      ],
      "text/plain": [
       "  created_on operation property_type  \\\n",
       "0 2017-09-22      sell         house   \n",
       "1 2017-08-01      sell         store   \n",
       "2 2017-08-02      sell         store   \n",
       "\n",
       "                             place_with_parent_names  \\\n",
       "0  |Argentina|Capital Federal|Palermo|Palermo Viejo|   \n",
       "1                |Argentina|Capital Federal|Palermo|   \n",
       "2   |Argentina|Capital Federal|Palermo|Palermo Soho|   \n",
       "\n",
       "                         lat-lon        lat        lon  price_aprox_usd  \\\n",
       "0  -34.5889531469,-58.4298817776 -34.588953 -58.429882        2000000.0   \n",
       "1          -34.586069,-58.414431 -34.586069 -58.414431         790000.0   \n",
       "2         -34.589723,-58.4325664 -34.589723 -58.432566         343000.0   \n",
       "\n",
       "   surface_total_in_m2  surface_covered_in_m2  price_usd_per_m2  floor  rooms  \\\n",
       "0                312.0                    NaN        6410.25641    NaN    NaN   \n",
       "1                121.0                  121.0        6528.92562    NaN    NaN   \n",
       "2                122.0                  108.0        2811.47541    NaN    2.0   \n",
       "\n",
       "   expenses  \\\n",
       "0       NaN   \n",
       "1       NaN   \n",
       "2       NaN   \n",
       "\n",
       "                                                                                                                                    properati_url  \\\n",
       "0                                                                               https://www.properati.com.ar/2os_venta_casa_palermo-viejo_rent-ba   \n",
       "1                       https://www.properati.com.ar/1cl7l_venta_local_palermo_santa-fe-av-al-3500_sotano_garage_subte-linea-d_deptos-temporarios   \n",
       "2  https://www.properati.com.ar/1cm8w_venta_local_palermo-soho_cabrera-jose-a-_5000_jardin_lavadero_patio_piscina_toilette_garage_ojo-propiedades   \n",
       "\n",
       "    barrio  comuna  \n",
       "0  PALERMO    14.0  \n",
       "1  PALERMO    14.0  \n",
       "2  PALERMO    14.0  "
      ]
     },
     "execution_count": 4,
     "metadata": {},
     "output_type": "execute_result"
    }
   ],
   "source": [
    "print(df.shape)\n",
    "df.head(3)"
   ]
  },
  {
   "cell_type": "markdown",
   "metadata": {},
   "source": [
    "## Categorías de propiedades\n",
    "En primer lugar vamos a ver qué categorías existen en el campo `property_type`. Y de esas categorías cuantos valores tenemos de cada uno.\n",
    "\n",
    "**3) Mostrá** las categorías de `property_type` y cuántas instancias hay de cada una.\n",
    "\n",
    "Recordá utilizar funciones del **dataframe** de pandas para realizar esto."
   ]
  },
  {
   "cell_type": "code",
   "execution_count": 5,
   "metadata": {},
   "outputs": [
    {
     "data": {
      "text/plain": [
       "array(['house', 'store', 'apartment', 'PH'], dtype=object)"
      ]
     },
     "execution_count": 5,
     "metadata": {},
     "output_type": "execute_result"
    }
   ],
   "source": [
    "# mostrá las categorías del campo property_type y mostrá la cant. de valores en esta celda\n",
    "df.property_type.unique()"
   ]
  },
  {
   "cell_type": "code",
   "execution_count": 6,
   "metadata": {},
   "outputs": [
    {
     "data": {
      "text/plain": [
       "apartment    14807\n",
       "house         1618\n",
       "PH            1463\n",
       "store         1091\n",
       "Name: property_type, dtype: int64"
      ]
     },
     "execution_count": 6,
     "metadata": {},
     "output_type": "execute_result"
    }
   ],
   "source": [
    "df.property_type.value_counts()"
   ]
  },
  {
   "cell_type": "markdown",
   "metadata": {},
   "source": [
    "### Filtrando las categorías\n",
    "\n",
    "De las categorías existentes sólo queremos quedarnos con las que sean casas (house), departamentos (apartment) o PH (PH). \n",
    "\n",
    "Para esto, \n",
    "\n",
    "**4) filtrá** el `dataframe` original creando un **nuevo** `dataframe` llamado `df_filtered`. Este es el `dataframe` que seguirás usando a lo largo del análisis.\n"
   ]
  },
  {
   "cell_type": "code",
   "execution_count": 7,
   "metadata": {},
   "outputs": [
    {
     "data": {
      "text/html": [
       "<div>\n",
       "<style scoped>\n",
       "    .dataframe tbody tr th:only-of-type {\n",
       "        vertical-align: middle;\n",
       "    }\n",
       "\n",
       "    .dataframe tbody tr th {\n",
       "        vertical-align: top;\n",
       "    }\n",
       "\n",
       "    .dataframe thead th {\n",
       "        text-align: right;\n",
       "    }\n",
       "</style>\n",
       "<table border=\"1\" class=\"dataframe\">\n",
       "  <thead>\n",
       "    <tr style=\"text-align: right;\">\n",
       "      <th></th>\n",
       "      <th>created_on</th>\n",
       "      <th>operation</th>\n",
       "      <th>property_type</th>\n",
       "      <th>place_with_parent_names</th>\n",
       "      <th>lat-lon</th>\n",
       "      <th>lat</th>\n",
       "      <th>lon</th>\n",
       "      <th>price_aprox_usd</th>\n",
       "      <th>surface_total_in_m2</th>\n",
       "      <th>surface_covered_in_m2</th>\n",
       "      <th>price_usd_per_m2</th>\n",
       "      <th>floor</th>\n",
       "      <th>rooms</th>\n",
       "      <th>expenses</th>\n",
       "      <th>properati_url</th>\n",
       "      <th>barrio</th>\n",
       "      <th>comuna</th>\n",
       "    </tr>\n",
       "  </thead>\n",
       "  <tbody>\n",
       "    <tr>\n",
       "      <td>0</td>\n",
       "      <td>2017-09-22</td>\n",
       "      <td>sell</td>\n",
       "      <td>house</td>\n",
       "      <td>|Argentina|Capital Federal|Palermo|Palermo Viejo|</td>\n",
       "      <td>-34.5889531469,-58.4298817776</td>\n",
       "      <td>-34.588953</td>\n",
       "      <td>-58.429882</td>\n",
       "      <td>2000000.00</td>\n",
       "      <td>312.0</td>\n",
       "      <td>NaN</td>\n",
       "      <td>6410.256410</td>\n",
       "      <td>NaN</td>\n",
       "      <td>NaN</td>\n",
       "      <td>NaN</td>\n",
       "      <td>https://www.properati.com.ar/2os_venta_casa_palermo-viejo_rent-ba</td>\n",
       "      <td>PALERMO</td>\n",
       "      <td>14.0</td>\n",
       "    </tr>\n",
       "    <tr>\n",
       "      <td>18</td>\n",
       "      <td>2017-08-29</td>\n",
       "      <td>sell</td>\n",
       "      <td>apartment</td>\n",
       "      <td>|Argentina|Capital Federal|Palermo|</td>\n",
       "      <td>-34.588912403,-58.4134942185</td>\n",
       "      <td>-34.588912</td>\n",
       "      <td>-58.413494</td>\n",
       "      <td>340000.00</td>\n",
       "      <td>130.0</td>\n",
       "      <td>120.0</td>\n",
       "      <td>2615.384615</td>\n",
       "      <td>NaN</td>\n",
       "      <td>4.0</td>\n",
       "      <td>8000.0</td>\n",
       "      <td>https://www.properati.com.ar/1dzv6_venta_departamento_palermo_guemes_3600_balcon_suite_jardin_lavadero_luminoso_lujoso_dependencias_placard_doble-circulacion_subte-linea-d_luisio-propiedades-suc-virrey-del-pino-2378</td>\n",
       "      <td>PALERMO</td>\n",
       "      <td>14.0</td>\n",
       "    </tr>\n",
       "    <tr>\n",
       "      <td>19</td>\n",
       "      <td>2017-08-29</td>\n",
       "      <td>sell</td>\n",
       "      <td>apartment</td>\n",
       "      <td>|Argentina|Capital Federal|Palermo|</td>\n",
       "      <td>-34.5770327,-58.4233675</td>\n",
       "      <td>-34.577033</td>\n",
       "      <td>-58.423368</td>\n",
       "      <td>222000.00</td>\n",
       "      <td>52.0</td>\n",
       "      <td>48.0</td>\n",
       "      <td>4269.230769</td>\n",
       "      <td>NaN</td>\n",
       "      <td>1.0</td>\n",
       "      <td>NaN</td>\n",
       "      <td>https://www.properati.com.ar/1e05k_venta_departamento_palermo_juncal-al-4500_gimnasio_jardin_lavadero_parrilla_piscina_sum_aire-acondicionado_subte-linea-h_subte-linea-c_deptos-temporarios</td>\n",
       "      <td>PALERMO</td>\n",
       "      <td>14.0</td>\n",
       "    </tr>\n",
       "    <tr>\n",
       "      <td>20</td>\n",
       "      <td>2017-08-29</td>\n",
       "      <td>sell</td>\n",
       "      <td>apartment</td>\n",
       "      <td>|Argentina|Capital Federal|Palermo|</td>\n",
       "      <td>-34.5950139,-58.4273915</td>\n",
       "      <td>-34.595014</td>\n",
       "      <td>-58.427392</td>\n",
       "      <td>180000.00</td>\n",
       "      <td>70.0</td>\n",
       "      <td>70.0</td>\n",
       "      <td>2571.428571</td>\n",
       "      <td>NaN</td>\n",
       "      <td>NaN</td>\n",
       "      <td>3000.0</td>\n",
       "      <td>https://www.properati.com.ar/1e0mq_venta_departamento_palermo_julian-alvarez-al-1200_lavadero_amoblado_sanchez-carrizo-real-estate</td>\n",
       "      <td>PALERMO</td>\n",
       "      <td>14.0</td>\n",
       "    </tr>\n",
       "    <tr>\n",
       "      <td>22</td>\n",
       "      <td>2017-08-30</td>\n",
       "      <td>sell</td>\n",
       "      <td>house</td>\n",
       "      <td>|Argentina|Capital Federal|Palermo|Palermo Hollywood|</td>\n",
       "      <td>-34.5793535,-58.4364489</td>\n",
       "      <td>-34.579354</td>\n",
       "      <td>-58.436449</td>\n",
       "      <td>1200000.00</td>\n",
       "      <td>532.0</td>\n",
       "      <td>334.0</td>\n",
       "      <td>2255.639098</td>\n",
       "      <td>NaN</td>\n",
       "      <td>6.0</td>\n",
       "      <td>NaN</td>\n",
       "      <td>https://www.properati.com.ar/1e1ve_venta_casa_palermo-hollywood_jardin_lavadero_piscina_luminoso_vista_garage_nexo-propiedades_h0z</td>\n",
       "      <td>PALERMO</td>\n",
       "      <td>14.0</td>\n",
       "    </tr>\n",
       "    <tr>\n",
       "      <td>...</td>\n",
       "      <td>...</td>\n",
       "      <td>...</td>\n",
       "      <td>...</td>\n",
       "      <td>...</td>\n",
       "      <td>...</td>\n",
       "      <td>...</td>\n",
       "      <td>...</td>\n",
       "      <td>...</td>\n",
       "      <td>...</td>\n",
       "      <td>...</td>\n",
       "      <td>...</td>\n",
       "      <td>...</td>\n",
       "      <td>...</td>\n",
       "      <td>...</td>\n",
       "      <td>...</td>\n",
       "      <td>...</td>\n",
       "      <td>...</td>\n",
       "    </tr>\n",
       "    <tr>\n",
       "      <td>18973</td>\n",
       "      <td>2017-12-17</td>\n",
       "      <td>sell</td>\n",
       "      <td>apartment</td>\n",
       "      <td>|Argentina|Capital Federal|Villa Soldati|</td>\n",
       "      <td>-34.66897,-58.443897</td>\n",
       "      <td>-34.668970</td>\n",
       "      <td>-58.443897</td>\n",
       "      <td>49000.00</td>\n",
       "      <td>75.0</td>\n",
       "      <td>75.0</td>\n",
       "      <td>653.333333</td>\n",
       "      <td>NaN</td>\n",
       "      <td>4.0</td>\n",
       "      <td>NaN</td>\n",
       "      <td>https://www.properati.com.ar/1j22x_venta_departamento_villa-soldati_re-max-parque</td>\n",
       "      <td>VILLA SOLDATI</td>\n",
       "      <td>8.0</td>\n",
       "    </tr>\n",
       "    <tr>\n",
       "      <td>18974</td>\n",
       "      <td>2018-01-08</td>\n",
       "      <td>sell</td>\n",
       "      <td>apartment</td>\n",
       "      <td>|Argentina|Capital Federal|Villa Soldati|</td>\n",
       "      <td>-34.668741,-58.443146</td>\n",
       "      <td>-34.668741</td>\n",
       "      <td>-58.443146</td>\n",
       "      <td>60000.00</td>\n",
       "      <td>55.0</td>\n",
       "      <td>55.0</td>\n",
       "      <td>1090.909091</td>\n",
       "      <td>NaN</td>\n",
       "      <td>3.0</td>\n",
       "      <td>NaN</td>\n",
       "      <td>https://www.properati.com.ar/1jcpm_venta_departamento_villa-soldati_roca-cnel-av-_3500_subte-premetro_re-max-parque</td>\n",
       "      <td>VILLA SOLDATI</td>\n",
       "      <td>8.0</td>\n",
       "    </tr>\n",
       "    <tr>\n",
       "      <td>18975</td>\n",
       "      <td>2018-01-23</td>\n",
       "      <td>sell</td>\n",
       "      <td>house</td>\n",
       "      <td>|Argentina|Capital Federal|Villa Soldati|</td>\n",
       "      <td>-34.66417,-58.443317</td>\n",
       "      <td>-34.664170</td>\n",
       "      <td>-58.443317</td>\n",
       "      <td>99000.00</td>\n",
       "      <td>115.0</td>\n",
       "      <td>82.0</td>\n",
       "      <td>860.869565</td>\n",
       "      <td>NaN</td>\n",
       "      <td>3.0</td>\n",
       "      <td>NaN</td>\n",
       "      <td>https://www.properati.com.ar/1k1hs_venta_casa_villa-soldati_lavadero_parrilla_terraza_garage_placard_subte-premetro_re-max-acci-oacute-n</td>\n",
       "      <td>VILLA SOLDATI</td>\n",
       "      <td>8.0</td>\n",
       "    </tr>\n",
       "    <tr>\n",
       "      <td>18977</td>\n",
       "      <td>2018-01-27</td>\n",
       "      <td>sell</td>\n",
       "      <td>apartment</td>\n",
       "      <td>|Argentina|Capital Federal|Villa Soldati|</td>\n",
       "      <td>-34.665005,-58.443041</td>\n",
       "      <td>-34.665005</td>\n",
       "      <td>-58.443041</td>\n",
       "      <td>50433.01</td>\n",
       "      <td>45.0</td>\n",
       "      <td>45.0</td>\n",
       "      <td>1120.733556</td>\n",
       "      <td>NaN</td>\n",
       "      <td>3.0</td>\n",
       "      <td>NaN</td>\n",
       "      <td>https://www.properati.com.ar/1k5v0_venta_departamento_villa-soldati_lavadero_subte-premetro_re-max-ayres</td>\n",
       "      <td>VILLA SOLDATI</td>\n",
       "      <td>8.0</td>\n",
       "    </tr>\n",
       "    <tr>\n",
       "      <td>18978</td>\n",
       "      <td>2018-01-27</td>\n",
       "      <td>sell</td>\n",
       "      <td>apartment</td>\n",
       "      <td>|Argentina|Capital Federal|Villa Lugano|</td>\n",
       "      <td>-34.664283,-58.469604</td>\n",
       "      <td>-34.664283</td>\n",
       "      <td>-58.469604</td>\n",
       "      <td>75000.00</td>\n",
       "      <td>60.0</td>\n",
       "      <td>58.0</td>\n",
       "      <td>1250.000000</td>\n",
       "      <td>9.0</td>\n",
       "      <td>3.0</td>\n",
       "      <td>NaN</td>\n",
       "      <td>https://www.properati.com.ar/1k5x2_venta_departamento_villa-lugano_balcon_lavadero_sum_re-max-accion-ii</td>\n",
       "      <td>VILLA SOLDATI</td>\n",
       "      <td>8.0</td>\n",
       "    </tr>\n",
       "  </tbody>\n",
       "</table>\n",
       "<p>17888 rows × 17 columns</p>\n",
       "</div>"
      ],
      "text/plain": [
       "      created_on operation property_type  \\\n",
       "0     2017-09-22      sell         house   \n",
       "18    2017-08-29      sell     apartment   \n",
       "19    2017-08-29      sell     apartment   \n",
       "20    2017-08-29      sell     apartment   \n",
       "22    2017-08-30      sell         house   \n",
       "...          ...       ...           ...   \n",
       "18973 2017-12-17      sell     apartment   \n",
       "18974 2018-01-08      sell     apartment   \n",
       "18975 2018-01-23      sell         house   \n",
       "18977 2018-01-27      sell     apartment   \n",
       "18978 2018-01-27      sell     apartment   \n",
       "\n",
       "                                     place_with_parent_names  \\\n",
       "0          |Argentina|Capital Federal|Palermo|Palermo Viejo|   \n",
       "18                       |Argentina|Capital Federal|Palermo|   \n",
       "19                       |Argentina|Capital Federal|Palermo|   \n",
       "20                       |Argentina|Capital Federal|Palermo|   \n",
       "22     |Argentina|Capital Federal|Palermo|Palermo Hollywood|   \n",
       "...                                                      ...   \n",
       "18973              |Argentina|Capital Federal|Villa Soldati|   \n",
       "18974              |Argentina|Capital Federal|Villa Soldati|   \n",
       "18975              |Argentina|Capital Federal|Villa Soldati|   \n",
       "18977              |Argentina|Capital Federal|Villa Soldati|   \n",
       "18978               |Argentina|Capital Federal|Villa Lugano|   \n",
       "\n",
       "                             lat-lon        lat        lon  price_aprox_usd  \\\n",
       "0      -34.5889531469,-58.4298817776 -34.588953 -58.429882       2000000.00   \n",
       "18      -34.588912403,-58.4134942185 -34.588912 -58.413494        340000.00   \n",
       "19           -34.5770327,-58.4233675 -34.577033 -58.423368        222000.00   \n",
       "20           -34.5950139,-58.4273915 -34.595014 -58.427392        180000.00   \n",
       "22           -34.5793535,-58.4364489 -34.579354 -58.436449       1200000.00   \n",
       "...                              ...        ...        ...              ...   \n",
       "18973           -34.66897,-58.443897 -34.668970 -58.443897         49000.00   \n",
       "18974          -34.668741,-58.443146 -34.668741 -58.443146         60000.00   \n",
       "18975           -34.66417,-58.443317 -34.664170 -58.443317         99000.00   \n",
       "18977          -34.665005,-58.443041 -34.665005 -58.443041         50433.01   \n",
       "18978          -34.664283,-58.469604 -34.664283 -58.469604         75000.00   \n",
       "\n",
       "       surface_total_in_m2  surface_covered_in_m2  price_usd_per_m2  floor  \\\n",
       "0                    312.0                    NaN       6410.256410    NaN   \n",
       "18                   130.0                  120.0       2615.384615    NaN   \n",
       "19                    52.0                   48.0       4269.230769    NaN   \n",
       "20                    70.0                   70.0       2571.428571    NaN   \n",
       "22                   532.0                  334.0       2255.639098    NaN   \n",
       "...                    ...                    ...               ...    ...   \n",
       "18973                 75.0                   75.0        653.333333    NaN   \n",
       "18974                 55.0                   55.0       1090.909091    NaN   \n",
       "18975                115.0                   82.0        860.869565    NaN   \n",
       "18977                 45.0                   45.0       1120.733556    NaN   \n",
       "18978                 60.0                   58.0       1250.000000    9.0   \n",
       "\n",
       "       rooms  expenses  \\\n",
       "0        NaN       NaN   \n",
       "18       4.0    8000.0   \n",
       "19       1.0       NaN   \n",
       "20       NaN    3000.0   \n",
       "22       6.0       NaN   \n",
       "...      ...       ...   \n",
       "18973    4.0       NaN   \n",
       "18974    3.0       NaN   \n",
       "18975    3.0       NaN   \n",
       "18977    3.0       NaN   \n",
       "18978    3.0       NaN   \n",
       "\n",
       "                                                                                                                                                                                                                 properati_url  \\\n",
       "0                                                                                                                                                            https://www.properati.com.ar/2os_venta_casa_palermo-viejo_rent-ba   \n",
       "18     https://www.properati.com.ar/1dzv6_venta_departamento_palermo_guemes_3600_balcon_suite_jardin_lavadero_luminoso_lujoso_dependencias_placard_doble-circulacion_subte-linea-d_luisio-propiedades-suc-virrey-del-pino-2378   \n",
       "19                                https://www.properati.com.ar/1e05k_venta_departamento_palermo_juncal-al-4500_gimnasio_jardin_lavadero_parrilla_piscina_sum_aire-acondicionado_subte-linea-h_subte-linea-c_deptos-temporarios   \n",
       "20                                                                                          https://www.properati.com.ar/1e0mq_venta_departamento_palermo_julian-alvarez-al-1200_lavadero_amoblado_sanchez-carrizo-real-estate   \n",
       "22                                                                                          https://www.properati.com.ar/1e1ve_venta_casa_palermo-hollywood_jardin_lavadero_piscina_luminoso_vista_garage_nexo-propiedades_h0z   \n",
       "...                                                                                                                                                                                                                        ...   \n",
       "18973                                                                                                                                        https://www.properati.com.ar/1j22x_venta_departamento_villa-soldati_re-max-parque   \n",
       "18974                                                                                                      https://www.properati.com.ar/1jcpm_venta_departamento_villa-soldati_roca-cnel-av-_3500_subte-premetro_re-max-parque   \n",
       "18975                                                                                 https://www.properati.com.ar/1k1hs_venta_casa_villa-soldati_lavadero_parrilla_terraza_garage_placard_subte-premetro_re-max-acci-oacute-n   \n",
       "18977                                                                                                                 https://www.properati.com.ar/1k5v0_venta_departamento_villa-soldati_lavadero_subte-premetro_re-max-ayres   \n",
       "18978                                                                                                                  https://www.properati.com.ar/1k5x2_venta_departamento_villa-lugano_balcon_lavadero_sum_re-max-accion-ii   \n",
       "\n",
       "              barrio  comuna  \n",
       "0            PALERMO    14.0  \n",
       "18           PALERMO    14.0  \n",
       "19           PALERMO    14.0  \n",
       "20           PALERMO    14.0  \n",
       "22           PALERMO    14.0  \n",
       "...              ...     ...  \n",
       "18973  VILLA SOLDATI     8.0  \n",
       "18974  VILLA SOLDATI     8.0  \n",
       "18975  VILLA SOLDATI     8.0  \n",
       "18977  VILLA SOLDATI     8.0  \n",
       "18978  VILLA SOLDATI     8.0  \n",
       "\n",
       "[17888 rows x 17 columns]"
      ]
     },
     "execution_count": 7,
     "metadata": {},
     "output_type": "execute_result"
    }
   ],
   "source": [
    "# Filtrá el dataframe en esta celda\n",
    "df_filtered=df.loc[df['property_type'].isin(['house','apartment','PH'])]\n",
    "df_filtered"
   ]
  },
  {
   "cell_type": "markdown",
   "metadata": {},
   "source": [
    "### Visualizando las categorías\n",
    "**5)** Utilizando `seaborn` **creá un countplot** para visualizar las categorías de `df_filtered` en el campo `property_type` "
   ]
  },
  {
   "cell_type": "code",
   "execution_count": 8,
   "metadata": {},
   "outputs": [
    {
     "data": {
      "text/plain": [
       "<matplotlib.axes._subplots.AxesSubplot at 0x7fbe2076a890>"
      ]
     },
     "execution_count": 8,
     "metadata": {},
     "output_type": "execute_result"
    },
    {
     "data": {
      "image/png": "[encoded data removed]",
      "text/plain": [
       "<Figure size 864x576 with 1 Axes>"
      ]
     },
     "metadata": {
      "needs_background": "light"
     },
     "output_type": "display_data"
    }
   ],
   "source": [
    "# Visualizá las categorías en esta celda\n",
    "sns.countplot(data=df_filtered, x='property_type')"
   ]
  },
  {
   "cell_type": "markdown",
   "metadata": {},
   "source": [
    "## Valores Faltantes"
   ]
  },
  {
   "cell_type": "markdown",
   "metadata": {},
   "source": [
    "Vamos a querer descartar aquellas instancias que tengan valores nulos en columnas importantes para el análisis del mercado.\n",
    "Estas columnas son las que informan **superficie (total o cubierta)**, **cantidad de ambientes**, **precio** y **precio por metro cuadrado**.\n",
    "\n",
    "**6) Quitá** del `dataframe` las instancias que no tengan ningún valor en los campos nombrados."
   ]
  },
  {
   "cell_type": "code",
   "execution_count": 9,
   "metadata": {},
   "outputs": [
    {
     "name": "stderr",
     "output_type": "stream",
     "text": [
      "/home/gr/anaconda3/lib/python3.7/site-packages/ipykernel_launcher.py:2: SettingWithCopyWarning: \n",
      "A value is trying to be set on a copy of a slice from a DataFrame\n",
      "\n",
      "See the caveats in the documentation: http://pandas.pydata.org/pandas-docs/stable/user_guide/indexing.html#returning-a-view-versus-a-copy\n",
      "  \n"
     ]
    },
    {
     "data": {
      "text/html": [
       "<div>\n",
       "<style scoped>\n",
       "    .dataframe tbody tr th:only-of-type {\n",
       "        vertical-align: middle;\n",
       "    }\n",
       "\n",
       "    .dataframe tbody tr th {\n",
       "        vertical-align: top;\n",
       "    }\n",
       "\n",
       "    .dataframe thead th {\n",
       "        text-align: right;\n",
       "    }\n",
       "</style>\n",
       "<table border=\"1\" class=\"dataframe\">\n",
       "  <thead>\n",
       "    <tr style=\"text-align: right;\">\n",
       "      <th></th>\n",
       "      <th>created_on</th>\n",
       "      <th>operation</th>\n",
       "      <th>property_type</th>\n",
       "      <th>place_with_parent_names</th>\n",
       "      <th>lat-lon</th>\n",
       "      <th>lat</th>\n",
       "      <th>lon</th>\n",
       "      <th>price_aprox_usd</th>\n",
       "      <th>surface_total_in_m2</th>\n",
       "      <th>surface_covered_in_m2</th>\n",
       "      <th>price_usd_per_m2</th>\n",
       "      <th>floor</th>\n",
       "      <th>rooms</th>\n",
       "      <th>expenses</th>\n",
       "      <th>properati_url</th>\n",
       "      <th>barrio</th>\n",
       "      <th>comuna</th>\n",
       "    </tr>\n",
       "  </thead>\n",
       "  <tbody>\n",
       "    <tr>\n",
       "      <td>18</td>\n",
       "      <td>2017-08-29</td>\n",
       "      <td>sell</td>\n",
       "      <td>apartment</td>\n",
       "      <td>|Argentina|Capital Federal|Palermo|</td>\n",
       "      <td>-34.588912403,-58.4134942185</td>\n",
       "      <td>-34.588912</td>\n",
       "      <td>-58.413494</td>\n",
       "      <td>340000.00</td>\n",
       "      <td>130.0</td>\n",
       "      <td>120.0</td>\n",
       "      <td>2615.384615</td>\n",
       "      <td>NaN</td>\n",
       "      <td>4.0</td>\n",
       "      <td>8000.0</td>\n",
       "      <td>https://www.properati.com.ar/1dzv6_venta_departamento_palermo_guemes_3600_balcon_suite_jardin_lavadero_luminoso_lujoso_dependencias_placard_doble-circulacion_subte-linea-d_luisio-propiedades-suc-virrey-del-pino-2378</td>\n",
       "      <td>PALERMO</td>\n",
       "      <td>14.0</td>\n",
       "    </tr>\n",
       "    <tr>\n",
       "      <td>19</td>\n",
       "      <td>2017-08-29</td>\n",
       "      <td>sell</td>\n",
       "      <td>apartment</td>\n",
       "      <td>|Argentina|Capital Federal|Palermo|</td>\n",
       "      <td>-34.5770327,-58.4233675</td>\n",
       "      <td>-34.577033</td>\n",
       "      <td>-58.423368</td>\n",
       "      <td>222000.00</td>\n",
       "      <td>52.0</td>\n",
       "      <td>48.0</td>\n",
       "      <td>4269.230769</td>\n",
       "      <td>NaN</td>\n",
       "      <td>1.0</td>\n",
       "      <td>NaN</td>\n",
       "      <td>https://www.properati.com.ar/1e05k_venta_departamento_palermo_juncal-al-4500_gimnasio_jardin_lavadero_parrilla_piscina_sum_aire-acondicionado_subte-linea-h_subte-linea-c_deptos-temporarios</td>\n",
       "      <td>PALERMO</td>\n",
       "      <td>14.0</td>\n",
       "    </tr>\n",
       "    <tr>\n",
       "      <td>22</td>\n",
       "      <td>2017-08-30</td>\n",
       "      <td>sell</td>\n",
       "      <td>house</td>\n",
       "      <td>|Argentina|Capital Federal|Palermo|Palermo Hollywood|</td>\n",
       "      <td>-34.5793535,-58.4364489</td>\n",
       "      <td>-34.579354</td>\n",
       "      <td>-58.436449</td>\n",
       "      <td>1200000.00</td>\n",
       "      <td>532.0</td>\n",
       "      <td>334.0</td>\n",
       "      <td>2255.639098</td>\n",
       "      <td>NaN</td>\n",
       "      <td>6.0</td>\n",
       "      <td>NaN</td>\n",
       "      <td>https://www.properati.com.ar/1e1ve_venta_casa_palermo-hollywood_jardin_lavadero_piscina_luminoso_vista_garage_nexo-propiedades_h0z</td>\n",
       "      <td>PALERMO</td>\n",
       "      <td>14.0</td>\n",
       "    </tr>\n",
       "    <tr>\n",
       "      <td>24</td>\n",
       "      <td>2017-08-30</td>\n",
       "      <td>sell</td>\n",
       "      <td>apartment</td>\n",
       "      <td>|Argentina|Capital Federal|Palermo|Palermo Hollywood|</td>\n",
       "      <td>-34.5809281,-58.4404321</td>\n",
       "      <td>-34.580928</td>\n",
       "      <td>-58.440432</td>\n",
       "      <td>270000.00</td>\n",
       "      <td>67.0</td>\n",
       "      <td>64.0</td>\n",
       "      <td>4029.850746</td>\n",
       "      <td>NaN</td>\n",
       "      <td>3.0</td>\n",
       "      <td>3900.0</td>\n",
       "      <td>https://www.properati.com.ar/1e1x0_venta_departamento_palermo-hollywood_arevalo_1700_balcon_toilette_luminoso_apto-credito-hipotecario_yankel-group</td>\n",
       "      <td>PALERMO</td>\n",
       "      <td>14.0</td>\n",
       "    </tr>\n",
       "    <tr>\n",
       "      <td>29</td>\n",
       "      <td>2017-08-30</td>\n",
       "      <td>sell</td>\n",
       "      <td>apartment</td>\n",
       "      <td>|Argentina|Capital Federal|Palermo|</td>\n",
       "      <td>-34.594251,-58.4166447</td>\n",
       "      <td>-34.594251</td>\n",
       "      <td>-58.416645</td>\n",
       "      <td>250000.00</td>\n",
       "      <td>67.0</td>\n",
       "      <td>60.0</td>\n",
       "      <td>3731.343284</td>\n",
       "      <td>NaN</td>\n",
       "      <td>2.0</td>\n",
       "      <td>NaN</td>\n",
       "      <td>https://www.properati.com.ar/1e2mz_venta_departamento_palermo_balcon_lavadero_parrilla_piscina_aire-acondicionado_apto-credito-hipotecario_ageo-propiedades_dwr</td>\n",
       "      <td>PALERMO</td>\n",
       "      <td>14.0</td>\n",
       "    </tr>\n",
       "    <tr>\n",
       "      <td>...</td>\n",
       "      <td>...</td>\n",
       "      <td>...</td>\n",
       "      <td>...</td>\n",
       "      <td>...</td>\n",
       "      <td>...</td>\n",
       "      <td>...</td>\n",
       "      <td>...</td>\n",
       "      <td>...</td>\n",
       "      <td>...</td>\n",
       "      <td>...</td>\n",
       "      <td>...</td>\n",
       "      <td>...</td>\n",
       "      <td>...</td>\n",
       "      <td>...</td>\n",
       "      <td>...</td>\n",
       "      <td>...</td>\n",
       "      <td>...</td>\n",
       "    </tr>\n",
       "    <tr>\n",
       "      <td>18973</td>\n",
       "      <td>2017-12-17</td>\n",
       "      <td>sell</td>\n",
       "      <td>apartment</td>\n",
       "      <td>|Argentina|Capital Federal|Villa Soldati|</td>\n",
       "      <td>-34.66897,-58.443897</td>\n",
       "      <td>-34.668970</td>\n",
       "      <td>-58.443897</td>\n",
       "      <td>49000.00</td>\n",
       "      <td>75.0</td>\n",
       "      <td>75.0</td>\n",
       "      <td>653.333333</td>\n",
       "      <td>NaN</td>\n",
       "      <td>4.0</td>\n",
       "      <td>NaN</td>\n",
       "      <td>https://www.properati.com.ar/1j22x_venta_departamento_villa-soldati_re-max-parque</td>\n",
       "      <td>VILLA SOLDATI</td>\n",
       "      <td>8.0</td>\n",
       "    </tr>\n",
       "    <tr>\n",
       "      <td>18974</td>\n",
       "      <td>2018-01-08</td>\n",
       "      <td>sell</td>\n",
       "      <td>apartment</td>\n",
       "      <td>|Argentina|Capital Federal|Villa Soldati|</td>\n",
       "      <td>-34.668741,-58.443146</td>\n",
       "      <td>-34.668741</td>\n",
       "      <td>-58.443146</td>\n",
       "      <td>60000.00</td>\n",
       "      <td>55.0</td>\n",
       "      <td>55.0</td>\n",
       "      <td>1090.909091</td>\n",
       "      <td>NaN</td>\n",
       "      <td>3.0</td>\n",
       "      <td>NaN</td>\n",
       "      <td>https://www.properati.com.ar/1jcpm_venta_departamento_villa-soldati_roca-cnel-av-_3500_subte-premetro_re-max-parque</td>\n",
       "      <td>VILLA SOLDATI</td>\n",
       "      <td>8.0</td>\n",
       "    </tr>\n",
       "    <tr>\n",
       "      <td>18975</td>\n",
       "      <td>2018-01-23</td>\n",
       "      <td>sell</td>\n",
       "      <td>house</td>\n",
       "      <td>|Argentina|Capital Federal|Villa Soldati|</td>\n",
       "      <td>-34.66417,-58.443317</td>\n",
       "      <td>-34.664170</td>\n",
       "      <td>-58.443317</td>\n",
       "      <td>99000.00</td>\n",
       "      <td>115.0</td>\n",
       "      <td>82.0</td>\n",
       "      <td>860.869565</td>\n",
       "      <td>NaN</td>\n",
       "      <td>3.0</td>\n",
       "      <td>NaN</td>\n",
       "      <td>https://www.properati.com.ar/1k1hs_venta_casa_villa-soldati_lavadero_parrilla_terraza_garage_placard_subte-premetro_re-max-acci-oacute-n</td>\n",
       "      <td>VILLA SOLDATI</td>\n",
       "      <td>8.0</td>\n",
       "    </tr>\n",
       "    <tr>\n",
       "      <td>18977</td>\n",
       "      <td>2018-01-27</td>\n",
       "      <td>sell</td>\n",
       "      <td>apartment</td>\n",
       "      <td>|Argentina|Capital Federal|Villa Soldati|</td>\n",
       "      <td>-34.665005,-58.443041</td>\n",
       "      <td>-34.665005</td>\n",
       "      <td>-58.443041</td>\n",
       "      <td>50433.01</td>\n",
       "      <td>45.0</td>\n",
       "      <td>45.0</td>\n",
       "      <td>1120.733556</td>\n",
       "      <td>NaN</td>\n",
       "      <td>3.0</td>\n",
       "      <td>NaN</td>\n",
       "      <td>https://www.properati.com.ar/1k5v0_venta_departamento_villa-soldati_lavadero_subte-premetro_re-max-ayres</td>\n",
       "      <td>VILLA SOLDATI</td>\n",
       "      <td>8.0</td>\n",
       "    </tr>\n",
       "    <tr>\n",
       "      <td>18978</td>\n",
       "      <td>2018-01-27</td>\n",
       "      <td>sell</td>\n",
       "      <td>apartment</td>\n",
       "      <td>|Argentina|Capital Federal|Villa Lugano|</td>\n",
       "      <td>-34.664283,-58.469604</td>\n",
       "      <td>-34.664283</td>\n",
       "      <td>-58.469604</td>\n",
       "      <td>75000.00</td>\n",
       "      <td>60.0</td>\n",
       "      <td>58.0</td>\n",
       "      <td>1250.000000</td>\n",
       "      <td>9.0</td>\n",
       "      <td>3.0</td>\n",
       "      <td>NaN</td>\n",
       "      <td>https://www.properati.com.ar/1k5x2_venta_departamento_villa-lugano_balcon_lavadero_sum_re-max-accion-ii</td>\n",
       "      <td>VILLA SOLDATI</td>\n",
       "      <td>8.0</td>\n",
       "    </tr>\n",
       "  </tbody>\n",
       "</table>\n",
       "<p>11975 rows × 17 columns</p>\n",
       "</div>"
      ],
      "text/plain": [
       "      created_on operation property_type  \\\n",
       "18    2017-08-29      sell     apartment   \n",
       "19    2017-08-29      sell     apartment   \n",
       "22    2017-08-30      sell         house   \n",
       "24    2017-08-30      sell     apartment   \n",
       "29    2017-08-30      sell     apartment   \n",
       "...          ...       ...           ...   \n",
       "18973 2017-12-17      sell     apartment   \n",
       "18974 2018-01-08      sell     apartment   \n",
       "18975 2018-01-23      sell         house   \n",
       "18977 2018-01-27      sell     apartment   \n",
       "18978 2018-01-27      sell     apartment   \n",
       "\n",
       "                                     place_with_parent_names  \\\n",
       "18                       |Argentina|Capital Federal|Palermo|   \n",
       "19                       |Argentina|Capital Federal|Palermo|   \n",
       "22     |Argentina|Capital Federal|Palermo|Palermo Hollywood|   \n",
       "24     |Argentina|Capital Federal|Palermo|Palermo Hollywood|   \n",
       "29                       |Argentina|Capital Federal|Palermo|   \n",
       "...                                                      ...   \n",
       "18973              |Argentina|Capital Federal|Villa Soldati|   \n",
       "18974              |Argentina|Capital Federal|Villa Soldati|   \n",
       "18975              |Argentina|Capital Federal|Villa Soldati|   \n",
       "18977              |Argentina|Capital Federal|Villa Soldati|   \n",
       "18978               |Argentina|Capital Federal|Villa Lugano|   \n",
       "\n",
       "                            lat-lon        lat        lon  price_aprox_usd  \\\n",
       "18     -34.588912403,-58.4134942185 -34.588912 -58.413494        340000.00   \n",
       "19          -34.5770327,-58.4233675 -34.577033 -58.423368        222000.00   \n",
       "22          -34.5793535,-58.4364489 -34.579354 -58.436449       1200000.00   \n",
       "24          -34.5809281,-58.4404321 -34.580928 -58.440432        270000.00   \n",
       "29           -34.594251,-58.4166447 -34.594251 -58.416645        250000.00   \n",
       "...                             ...        ...        ...              ...   \n",
       "18973          -34.66897,-58.443897 -34.668970 -58.443897         49000.00   \n",
       "18974         -34.668741,-58.443146 -34.668741 -58.443146         60000.00   \n",
       "18975          -34.66417,-58.443317 -34.664170 -58.443317         99000.00   \n",
       "18977         -34.665005,-58.443041 -34.665005 -58.443041         50433.01   \n",
       "18978         -34.664283,-58.469604 -34.664283 -58.469604         75000.00   \n",
       "\n",
       "       surface_total_in_m2  surface_covered_in_m2  price_usd_per_m2  floor  \\\n",
       "18                   130.0                  120.0       2615.384615    NaN   \n",
       "19                    52.0                   48.0       4269.230769    NaN   \n",
       "22                   532.0                  334.0       2255.639098    NaN   \n",
       "24                    67.0                   64.0       4029.850746    NaN   \n",
       "29                    67.0                   60.0       3731.343284    NaN   \n",
       "...                    ...                    ...               ...    ...   \n",
       "18973                 75.0                   75.0        653.333333    NaN   \n",
       "18974                 55.0                   55.0       1090.909091    NaN   \n",
       "18975                115.0                   82.0        860.869565    NaN   \n",
       "18977                 45.0                   45.0       1120.733556    NaN   \n",
       "18978                 60.0                   58.0       1250.000000    9.0   \n",
       "\n",
       "       rooms  expenses  \\\n",
       "18       4.0    8000.0   \n",
       "19       1.0       NaN   \n",
       "22       6.0       NaN   \n",
       "24       3.0    3900.0   \n",
       "29       2.0       NaN   \n",
       "...      ...       ...   \n",
       "18973    4.0       NaN   \n",
       "18974    3.0       NaN   \n",
       "18975    3.0       NaN   \n",
       "18977    3.0       NaN   \n",
       "18978    3.0       NaN   \n",
       "\n",
       "                                                                                                                                                                                                                 properati_url  \\\n",
       "18     https://www.properati.com.ar/1dzv6_venta_departamento_palermo_guemes_3600_balcon_suite_jardin_lavadero_luminoso_lujoso_dependencias_placard_doble-circulacion_subte-linea-d_luisio-propiedades-suc-virrey-del-pino-2378   \n",
       "19                                https://www.properati.com.ar/1e05k_venta_departamento_palermo_juncal-al-4500_gimnasio_jardin_lavadero_parrilla_piscina_sum_aire-acondicionado_subte-linea-h_subte-linea-c_deptos-temporarios   \n",
       "22                                                                                          https://www.properati.com.ar/1e1ve_venta_casa_palermo-hollywood_jardin_lavadero_piscina_luminoso_vista_garage_nexo-propiedades_h0z   \n",
       "24                                                                         https://www.properati.com.ar/1e1x0_venta_departamento_palermo-hollywood_arevalo_1700_balcon_toilette_luminoso_apto-credito-hipotecario_yankel-group   \n",
       "29                                                             https://www.properati.com.ar/1e2mz_venta_departamento_palermo_balcon_lavadero_parrilla_piscina_aire-acondicionado_apto-credito-hipotecario_ageo-propiedades_dwr   \n",
       "...                                                                                                                                                                                                                        ...   \n",
       "18973                                                                                                                                        https://www.properati.com.ar/1j22x_venta_departamento_villa-soldati_re-max-parque   \n",
       "18974                                                                                                      https://www.properati.com.ar/1jcpm_venta_departamento_villa-soldati_roca-cnel-av-_3500_subte-premetro_re-max-parque   \n",
       "18975                                                                                 https://www.properati.com.ar/1k1hs_venta_casa_villa-soldati_lavadero_parrilla_terraza_garage_placard_subte-premetro_re-max-acci-oacute-n   \n",
       "18977                                                                                                                 https://www.properati.com.ar/1k5v0_venta_departamento_villa-soldati_lavadero_subte-premetro_re-max-ayres   \n",
       "18978                                                                                                                  https://www.properati.com.ar/1k5x2_venta_departamento_villa-lugano_balcon_lavadero_sum_re-max-accion-ii   \n",
       "\n",
       "              barrio  comuna  \n",
       "18           PALERMO    14.0  \n",
       "19           PALERMO    14.0  \n",
       "22           PALERMO    14.0  \n",
       "24           PALERMO    14.0  \n",
       "29           PALERMO    14.0  \n",
       "...              ...     ...  \n",
       "18973  VILLA SOLDATI     8.0  \n",
       "18974  VILLA SOLDATI     8.0  \n",
       "18975  VILLA SOLDATI     8.0  \n",
       "18977  VILLA SOLDATI     8.0  \n",
       "18978  VILLA SOLDATI     8.0  \n",
       "\n",
       "[11975 rows x 17 columns]"
      ]
     },
     "execution_count": 9,
     "metadata": {},
     "output_type": "execute_result"
    }
   ],
   "source": [
    "# Quitá las instancias con valores nules en esta celda\n",
    "df_filtered.dropna(subset=['surface_total_in_m2','surface_covered_in_m2', 'rooms', 'price_aprox_usd', 'price_usd_per_m2'], inplace=True)\n",
    "df_filtered"
   ]
  },
  {
   "cell_type": "markdown",
   "metadata": {},
   "source": [
    "**7)** A continuación **mostrá** cuantas instancias son las que descartaste a partir de quitar las que tenían valores nulos."
   ]
  },
  {
   "cell_type": "code",
   "execution_count": 10,
   "metadata": {},
   "outputs": [
    {
     "data": {
      "text/plain": [
       "7004"
      ]
     },
     "execution_count": 10,
     "metadata": {},
     "output_type": "execute_result"
    }
   ],
   "source": [
    "# Mostrá en esta celda la cantidad de instancias descartadas\n",
    "len(df)-len(df_filtered)"
   ]
  },
  {
   "cell_type": "markdown",
   "metadata": {},
   "source": [
    "Posiblemente existan otros atributos con valores faltantes en el dataset, pero que no son de tanta importancia. \n",
    "\n",
    "**8) Mostrá** qué otros atributos tienen valores faltantes en el `dataframe`."
   ]
  },
  {
   "cell_type": "code",
   "execution_count": 11,
   "metadata": {},
   "outputs": [
    {
     "data": {
      "text/plain": [
       "created_on                     0\n",
       "operation                      0\n",
       "property_type                  0\n",
       "place_with_parent_names        0\n",
       "lat-lon                        0\n",
       "lat                            0\n",
       "lon                            0\n",
       "price_aprox_usd                0\n",
       "surface_total_in_m2            0\n",
       "surface_covered_in_m2          0\n",
       "price_usd_per_m2               0\n",
       "floor                      10112\n",
       "rooms                          0\n",
       "expenses                    9703\n",
       "properati_url                  0\n",
       "barrio                         0\n",
       "comuna                         0\n",
       "dtype: int64"
      ]
     },
     "execution_count": 11,
     "metadata": {},
     "output_type": "execute_result"
    }
   ],
   "source": [
    "# Mostrá en esta celda los otros atributos con valores faltantes\n",
    "df_filtered.isna().sum()"
   ]
  },
  {
   "cell_type": "markdown",
   "metadata": {},
   "source": [
    "#### Desafío: planteá alguna estrategia posible para reemplazar los valores faltantes en el atributo `surface_total_in_m2`."
   ]
  },
  {
   "cell_type": "code",
   "execution_count": 14,
   "metadata": {},
   "outputs": [
    {
     "data": {
      "text/html": [
       "<div>\n",
       "<style scoped>\n",
       "    .dataframe tbody tr th:only-of-type {\n",
       "        vertical-align: middle;\n",
       "    }\n",
       "\n",
       "    .dataframe tbody tr th {\n",
       "        vertical-align: top;\n",
       "    }\n",
       "\n",
       "    .dataframe thead th {\n",
       "        text-align: right;\n",
       "    }\n",
       "</style>\n",
       "<table border=\"1\" class=\"dataframe\">\n",
       "  <thead>\n",
       "    <tr style=\"text-align: right;\">\n",
       "      <th></th>\n",
       "      <th>created_on</th>\n",
       "      <th>operation</th>\n",
       "      <th>property_type</th>\n",
       "      <th>place_with_parent_names</th>\n",
       "      <th>lat-lon</th>\n",
       "      <th>lat</th>\n",
       "      <th>lon</th>\n",
       "      <th>price_aprox_usd</th>\n",
       "      <th>surface_total_in_m2</th>\n",
       "      <th>surface_covered_in_m2</th>\n",
       "      <th>price_usd_per_m2</th>\n",
       "      <th>floor</th>\n",
       "      <th>rooms</th>\n",
       "      <th>expenses</th>\n",
       "      <th>properati_url</th>\n",
       "      <th>barrio</th>\n",
       "      <th>comuna</th>\n",
       "    </tr>\n",
       "  </thead>\n",
       "  <tbody>\n",
       "    <tr>\n",
       "      <td>18</td>\n",
       "      <td>2017-08-29</td>\n",
       "      <td>sell</td>\n",
       "      <td>apartment</td>\n",
       "      <td>|Argentina|Capital Federal|Palermo|</td>\n",
       "      <td>-34.588912403,-58.4134942185</td>\n",
       "      <td>-34.588912</td>\n",
       "      <td>-58.413494</td>\n",
       "      <td>340000.00</td>\n",
       "      <td>130.0</td>\n",
       "      <td>120.0</td>\n",
       "      <td>2615.384615</td>\n",
       "      <td>NaN</td>\n",
       "      <td>4.0</td>\n",
       "      <td>8000.0</td>\n",
       "      <td>https://www.properati.com.ar/1dzv6_venta_departamento_palermo_guemes_3600_balcon_suite_jardin_lavadero_luminoso_lujoso_dependencias_placard_doble-circulacion_subte-linea-d_luisio-propiedades-suc-virrey-del-pino-2378</td>\n",
       "      <td>PALERMO</td>\n",
       "      <td>14.0</td>\n",
       "    </tr>\n",
       "    <tr>\n",
       "      <td>19</td>\n",
       "      <td>2017-08-29</td>\n",
       "      <td>sell</td>\n",
       "      <td>apartment</td>\n",
       "      <td>|Argentina|Capital Federal|Palermo|</td>\n",
       "      <td>-34.5770327,-58.4233675</td>\n",
       "      <td>-34.577033</td>\n",
       "      <td>-58.423368</td>\n",
       "      <td>222000.00</td>\n",
       "      <td>52.0</td>\n",
       "      <td>48.0</td>\n",
       "      <td>4269.230769</td>\n",
       "      <td>NaN</td>\n",
       "      <td>1.0</td>\n",
       "      <td>NaN</td>\n",
       "      <td>https://www.properati.com.ar/1e05k_venta_departamento_palermo_juncal-al-4500_gimnasio_jardin_lavadero_parrilla_piscina_sum_aire-acondicionado_subte-linea-h_subte-linea-c_deptos-temporarios</td>\n",
       "      <td>PALERMO</td>\n",
       "      <td>14.0</td>\n",
       "    </tr>\n",
       "    <tr>\n",
       "      <td>22</td>\n",
       "      <td>2017-08-30</td>\n",
       "      <td>sell</td>\n",
       "      <td>house</td>\n",
       "      <td>|Argentina|Capital Federal|Palermo|Palermo Hollywood|</td>\n",
       "      <td>-34.5793535,-58.4364489</td>\n",
       "      <td>-34.579354</td>\n",
       "      <td>-58.436449</td>\n",
       "      <td>1200000.00</td>\n",
       "      <td>532.0</td>\n",
       "      <td>334.0</td>\n",
       "      <td>2255.639098</td>\n",
       "      <td>NaN</td>\n",
       "      <td>6.0</td>\n",
       "      <td>NaN</td>\n",
       "      <td>https://www.properati.com.ar/1e1ve_venta_casa_palermo-hollywood_jardin_lavadero_piscina_luminoso_vista_garage_nexo-propiedades_h0z</td>\n",
       "      <td>PALERMO</td>\n",
       "      <td>14.0</td>\n",
       "    </tr>\n",
       "    <tr>\n",
       "      <td>24</td>\n",
       "      <td>2017-08-30</td>\n",
       "      <td>sell</td>\n",
       "      <td>apartment</td>\n",
       "      <td>|Argentina|Capital Federal|Palermo|Palermo Hollywood|</td>\n",
       "      <td>-34.5809281,-58.4404321</td>\n",
       "      <td>-34.580928</td>\n",
       "      <td>-58.440432</td>\n",
       "      <td>270000.00</td>\n",
       "      <td>67.0</td>\n",
       "      <td>64.0</td>\n",
       "      <td>4029.850746</td>\n",
       "      <td>NaN</td>\n",
       "      <td>3.0</td>\n",
       "      <td>3900.0</td>\n",
       "      <td>https://www.properati.com.ar/1e1x0_venta_departamento_palermo-hollywood_arevalo_1700_balcon_toilette_luminoso_apto-credito-hipotecario_yankel-group</td>\n",
       "      <td>PALERMO</td>\n",
       "      <td>14.0</td>\n",
       "    </tr>\n",
       "    <tr>\n",
       "      <td>29</td>\n",
       "      <td>2017-08-30</td>\n",
       "      <td>sell</td>\n",
       "      <td>apartment</td>\n",
       "      <td>|Argentina|Capital Federal|Palermo|</td>\n",
       "      <td>-34.594251,-58.4166447</td>\n",
       "      <td>-34.594251</td>\n",
       "      <td>-58.416645</td>\n",
       "      <td>250000.00</td>\n",
       "      <td>67.0</td>\n",
       "      <td>60.0</td>\n",
       "      <td>3731.343284</td>\n",
       "      <td>NaN</td>\n",
       "      <td>2.0</td>\n",
       "      <td>NaN</td>\n",
       "      <td>https://www.properati.com.ar/1e2mz_venta_departamento_palermo_balcon_lavadero_parrilla_piscina_aire-acondicionado_apto-credito-hipotecario_ageo-propiedades_dwr</td>\n",
       "      <td>PALERMO</td>\n",
       "      <td>14.0</td>\n",
       "    </tr>\n",
       "    <tr>\n",
       "      <td>...</td>\n",
       "      <td>...</td>\n",
       "      <td>...</td>\n",
       "      <td>...</td>\n",
       "      <td>...</td>\n",
       "      <td>...</td>\n",
       "      <td>...</td>\n",
       "      <td>...</td>\n",
       "      <td>...</td>\n",
       "      <td>...</td>\n",
       "      <td>...</td>\n",
       "      <td>...</td>\n",
       "      <td>...</td>\n",
       "      <td>...</td>\n",
       "      <td>...</td>\n",
       "      <td>...</td>\n",
       "      <td>...</td>\n",
       "      <td>...</td>\n",
       "    </tr>\n",
       "    <tr>\n",
       "      <td>18973</td>\n",
       "      <td>2017-12-17</td>\n",
       "      <td>sell</td>\n",
       "      <td>apartment</td>\n",
       "      <td>|Argentina|Capital Federal|Villa Soldati|</td>\n",
       "      <td>-34.66897,-58.443897</td>\n",
       "      <td>-34.668970</td>\n",
       "      <td>-58.443897</td>\n",
       "      <td>49000.00</td>\n",
       "      <td>75.0</td>\n",
       "      <td>75.0</td>\n",
       "      <td>653.333333</td>\n",
       "      <td>NaN</td>\n",
       "      <td>4.0</td>\n",
       "      <td>NaN</td>\n",
       "      <td>https://www.properati.com.ar/1j22x_venta_departamento_villa-soldati_re-max-parque</td>\n",
       "      <td>VILLA SOLDATI</td>\n",
       "      <td>8.0</td>\n",
       "    </tr>\n",
       "    <tr>\n",
       "      <td>18974</td>\n",
       "      <td>2018-01-08</td>\n",
       "      <td>sell</td>\n",
       "      <td>apartment</td>\n",
       "      <td>|Argentina|Capital Federal|Villa Soldati|</td>\n",
       "      <td>-34.668741,-58.443146</td>\n",
       "      <td>-34.668741</td>\n",
       "      <td>-58.443146</td>\n",
       "      <td>60000.00</td>\n",
       "      <td>55.0</td>\n",
       "      <td>55.0</td>\n",
       "      <td>1090.909091</td>\n",
       "      <td>NaN</td>\n",
       "      <td>3.0</td>\n",
       "      <td>NaN</td>\n",
       "      <td>https://www.properati.com.ar/1jcpm_venta_departamento_villa-soldati_roca-cnel-av-_3500_subte-premetro_re-max-parque</td>\n",
       "      <td>VILLA SOLDATI</td>\n",
       "      <td>8.0</td>\n",
       "    </tr>\n",
       "    <tr>\n",
       "      <td>18975</td>\n",
       "      <td>2018-01-23</td>\n",
       "      <td>sell</td>\n",
       "      <td>house</td>\n",
       "      <td>|Argentina|Capital Federal|Villa Soldati|</td>\n",
       "      <td>-34.66417,-58.443317</td>\n",
       "      <td>-34.664170</td>\n",
       "      <td>-58.443317</td>\n",
       "      <td>99000.00</td>\n",
       "      <td>115.0</td>\n",
       "      <td>82.0</td>\n",
       "      <td>860.869565</td>\n",
       "      <td>NaN</td>\n",
       "      <td>3.0</td>\n",
       "      <td>NaN</td>\n",
       "      <td>https://www.properati.com.ar/1k1hs_venta_casa_villa-soldati_lavadero_parrilla_terraza_garage_placard_subte-premetro_re-max-acci-oacute-n</td>\n",
       "      <td>VILLA SOLDATI</td>\n",
       "      <td>8.0</td>\n",
       "    </tr>\n",
       "    <tr>\n",
       "      <td>18977</td>\n",
       "      <td>2018-01-27</td>\n",
       "      <td>sell</td>\n",
       "      <td>apartment</td>\n",
       "      <td>|Argentina|Capital Federal|Villa Soldati|</td>\n",
       "      <td>-34.665005,-58.443041</td>\n",
       "      <td>-34.665005</td>\n",
       "      <td>-58.443041</td>\n",
       "      <td>50433.01</td>\n",
       "      <td>45.0</td>\n",
       "      <td>45.0</td>\n",
       "      <td>1120.733556</td>\n",
       "      <td>NaN</td>\n",
       "      <td>3.0</td>\n",
       "      <td>NaN</td>\n",
       "      <td>https://www.properati.com.ar/1k5v0_venta_departamento_villa-soldati_lavadero_subte-premetro_re-max-ayres</td>\n",
       "      <td>VILLA SOLDATI</td>\n",
       "      <td>8.0</td>\n",
       "    </tr>\n",
       "    <tr>\n",
       "      <td>18978</td>\n",
       "      <td>2018-01-27</td>\n",
       "      <td>sell</td>\n",
       "      <td>apartment</td>\n",
       "      <td>|Argentina|Capital Federal|Villa Lugano|</td>\n",
       "      <td>-34.664283,-58.469604</td>\n",
       "      <td>-34.664283</td>\n",
       "      <td>-58.469604</td>\n",
       "      <td>75000.00</td>\n",
       "      <td>60.0</td>\n",
       "      <td>58.0</td>\n",
       "      <td>1250.000000</td>\n",
       "      <td>9.0</td>\n",
       "      <td>3.0</td>\n",
       "      <td>NaN</td>\n",
       "      <td>https://www.properati.com.ar/1k5x2_venta_departamento_villa-lugano_balcon_lavadero_sum_re-max-accion-ii</td>\n",
       "      <td>VILLA SOLDATI</td>\n",
       "      <td>8.0</td>\n",
       "    </tr>\n",
       "  </tbody>\n",
       "</table>\n",
       "<p>11975 rows × 17 columns</p>\n",
       "</div>"
      ],
      "text/plain": [
       "      created_on operation property_type  \\\n",
       "18    2017-08-29      sell     apartment   \n",
       "19    2017-08-29      sell     apartment   \n",
       "22    2017-08-30      sell         house   \n",
       "24    2017-08-30      sell     apartment   \n",
       "29    2017-08-30      sell     apartment   \n",
       "...          ...       ...           ...   \n",
       "18973 2017-12-17      sell     apartment   \n",
       "18974 2018-01-08      sell     apartment   \n",
       "18975 2018-01-23      sell         house   \n",
       "18977 2018-01-27      sell     apartment   \n",
       "18978 2018-01-27      sell     apartment   \n",
       "\n",
       "                                     place_with_parent_names  \\\n",
       "18                       |Argentina|Capital Federal|Palermo|   \n",
       "19                       |Argentina|Capital Federal|Palermo|   \n",
       "22     |Argentina|Capital Federal|Palermo|Palermo Hollywood|   \n",
       "24     |Argentina|Capital Federal|Palermo|Palermo Hollywood|   \n",
       "29                       |Argentina|Capital Federal|Palermo|   \n",
       "...                                                      ...   \n",
       "18973              |Argentina|Capital Federal|Villa Soldati|   \n",
       "18974              |Argentina|Capital Federal|Villa Soldati|   \n",
       "18975              |Argentina|Capital Federal|Villa Soldati|   \n",
       "18977              |Argentina|Capital Federal|Villa Soldati|   \n",
       "18978               |Argentina|Capital Federal|Villa Lugano|   \n",
       "\n",
       "                            lat-lon        lat        lon  price_aprox_usd  \\\n",
       "18     -34.588912403,-58.4134942185 -34.588912 -58.413494        340000.00   \n",
       "19          -34.5770327,-58.4233675 -34.577033 -58.423368        222000.00   \n",
       "22          -34.5793535,-58.4364489 -34.579354 -58.436449       1200000.00   \n",
       "24          -34.5809281,-58.4404321 -34.580928 -58.440432        270000.00   \n",
       "29           -34.594251,-58.4166447 -34.594251 -58.416645        250000.00   \n",
       "...                             ...        ...        ...              ...   \n",
       "18973          -34.66897,-58.443897 -34.668970 -58.443897         49000.00   \n",
       "18974         -34.668741,-58.443146 -34.668741 -58.443146         60000.00   \n",
       "18975          -34.66417,-58.443317 -34.664170 -58.443317         99000.00   \n",
       "18977         -34.665005,-58.443041 -34.665005 -58.443041         50433.01   \n",
       "18978         -34.664283,-58.469604 -34.664283 -58.469604         75000.00   \n",
       "\n",
       "       surface_total_in_m2  surface_covered_in_m2  price_usd_per_m2  floor  \\\n",
       "18                   130.0                  120.0       2615.384615    NaN   \n",
       "19                    52.0                   48.0       4269.230769    NaN   \n",
       "22                   532.0                  334.0       2255.639098    NaN   \n",
       "24                    67.0                   64.0       4029.850746    NaN   \n",
       "29                    67.0                   60.0       3731.343284    NaN   \n",
       "...                    ...                    ...               ...    ...   \n",
       "18973                 75.0                   75.0        653.333333    NaN   \n",
       "18974                 55.0                   55.0       1090.909091    NaN   \n",
       "18975                115.0                   82.0        860.869565    NaN   \n",
       "18977                 45.0                   45.0       1120.733556    NaN   \n",
       "18978                 60.0                   58.0       1250.000000    9.0   \n",
       "\n",
       "       rooms  expenses  \\\n",
       "18       4.0    8000.0   \n",
       "19       1.0       NaN   \n",
       "22       6.0       NaN   \n",
       "24       3.0    3900.0   \n",
       "29       2.0       NaN   \n",
       "...      ...       ...   \n",
       "18973    4.0       NaN   \n",
       "18974    3.0       NaN   \n",
       "18975    3.0       NaN   \n",
       "18977    3.0       NaN   \n",
       "18978    3.0       NaN   \n",
       "\n",
       "                                                                                                                                                                                                                 properati_url  \\\n",
       "18     https://www.properati.com.ar/1dzv6_venta_departamento_palermo_guemes_3600_balcon_suite_jardin_lavadero_luminoso_lujoso_dependencias_placard_doble-circulacion_subte-linea-d_luisio-propiedades-suc-virrey-del-pino-2378   \n",
       "19                                https://www.properati.com.ar/1e05k_venta_departamento_palermo_juncal-al-4500_gimnasio_jardin_lavadero_parrilla_piscina_sum_aire-acondicionado_subte-linea-h_subte-linea-c_deptos-temporarios   \n",
       "22                                                                                          https://www.properati.com.ar/1e1ve_venta_casa_palermo-hollywood_jardin_lavadero_piscina_luminoso_vista_garage_nexo-propiedades_h0z   \n",
       "24                                                                         https://www.properati.com.ar/1e1x0_venta_departamento_palermo-hollywood_arevalo_1700_balcon_toilette_luminoso_apto-credito-hipotecario_yankel-group   \n",
       "29                                                             https://www.properati.com.ar/1e2mz_venta_departamento_palermo_balcon_lavadero_parrilla_piscina_aire-acondicionado_apto-credito-hipotecario_ageo-propiedades_dwr   \n",
       "...                                                                                                                                                                                                                        ...   \n",
       "18973                                                                                                                                        https://www.properati.com.ar/1j22x_venta_departamento_villa-soldati_re-max-parque   \n",
       "18974                                                                                                      https://www.properati.com.ar/1jcpm_venta_departamento_villa-soldati_roca-cnel-av-_3500_subte-premetro_re-max-parque   \n",
       "18975                                                                                 https://www.properati.com.ar/1k1hs_venta_casa_villa-soldati_lavadero_parrilla_terraza_garage_placard_subte-premetro_re-max-acci-oacute-n   \n",
       "18977                                                                                                                 https://www.properati.com.ar/1k5v0_venta_departamento_villa-soldati_lavadero_subte-premetro_re-max-ayres   \n",
       "18978                                                                                                                  https://www.properati.com.ar/1k5x2_venta_departamento_villa-lugano_balcon_lavadero_sum_re-max-accion-ii   \n",
       "\n",
       "              barrio  comuna  \n",
       "18           PALERMO    14.0  \n",
       "19           PALERMO    14.0  \n",
       "22           PALERMO    14.0  \n",
       "24           PALERMO    14.0  \n",
       "29           PALERMO    14.0  \n",
       "...              ...     ...  \n",
       "18973  VILLA SOLDATI     8.0  \n",
       "18974  VILLA SOLDATI     8.0  \n",
       "18975  VILLA SOLDATI     8.0  \n",
       "18977  VILLA SOLDATI     8.0  \n",
       "18978  VILLA SOLDATI     8.0  \n",
       "\n",
       "[11975 rows x 17 columns]"
      ]
     },
     "execution_count": 14,
     "metadata": {},
     "output_type": "execute_result"
    }
   ],
   "source": [
    "df_filtered_copy['surface_total_in_m2'].fillna(df_filtered_copy.surface_total_in_m2.mean(), inplace=True)\n",
    "df_filtered_copy"
   ]
  },
  {
   "cell_type": "markdown",
   "metadata": {},
   "source": [
    "## Datos erróneos"
   ]
  },
  {
   "cell_type": "markdown",
   "metadata": {},
   "source": [
    "El siguiente paso es analizar errores que puede llegar a haber en el dataset. \n",
    "\n",
    "Por ejemplo, la **superficie total no puede ser menor que la cubierta**. Si esto sucede, podemos optar por eliminar esas filas o intentar corregir el problema. Veamos en primer lugar si esto sucede.\n",
    "\n",
    "**9) Mostrá** cuantas instancias existen que tengan el problema de este dato erróneo y guardalas en una variable llamada `wrong_surface_rows`"
   ]
  },
  {
   "cell_type": "code",
   "execution_count": 41,
   "metadata": {
    "scrolled": true
   },
   "outputs": [
    {
     "data": {
      "text/html": [
       "<div>\n",
       "<style scoped>\n",
       "    .dataframe tbody tr th:only-of-type {\n",
       "        vertical-align: middle;\n",
       "    }\n",
       "\n",
       "    .dataframe tbody tr th {\n",
       "        vertical-align: top;\n",
       "    }\n",
       "\n",
       "    .dataframe thead th {\n",
       "        text-align: right;\n",
       "    }\n",
       "</style>\n",
       "<table border=\"1\" class=\"dataframe\">\n",
       "  <thead>\n",
       "    <tr style=\"text-align: right;\">\n",
       "      <th></th>\n",
       "      <th>created_on</th>\n",
       "      <th>operation</th>\n",
       "      <th>property_type</th>\n",
       "      <th>place_with_parent_names</th>\n",
       "      <th>lat-lon</th>\n",
       "      <th>lat</th>\n",
       "      <th>lon</th>\n",
       "      <th>price_aprox_usd</th>\n",
       "      <th>surface_total_in_m2</th>\n",
       "      <th>surface_covered_in_m2</th>\n",
       "      <th>price_usd_per_m2</th>\n",
       "      <th>floor</th>\n",
       "      <th>rooms</th>\n",
       "      <th>expenses</th>\n",
       "      <th>properati_url</th>\n",
       "      <th>barrio</th>\n",
       "      <th>comuna</th>\n",
       "      <th>wrong_surface_rows</th>\n",
       "    </tr>\n",
       "  </thead>\n",
       "  <tbody>\n",
       "    <tr>\n",
       "      <td>18</td>\n",
       "      <td>2017-08-29</td>\n",
       "      <td>sell</td>\n",
       "      <td>apartment</td>\n",
       "      <td>|Argentina|Capital Federal|Palermo|</td>\n",
       "      <td>-34.588912403,-58.4134942185</td>\n",
       "      <td>-34.588912</td>\n",
       "      <td>-58.413494</td>\n",
       "      <td>340000.00</td>\n",
       "      <td>130.0</td>\n",
       "      <td>120.0</td>\n",
       "      <td>2615.384615</td>\n",
       "      <td>NaN</td>\n",
       "      <td>4.0</td>\n",
       "      <td>8000.0</td>\n",
       "      <td>https://www.properati.com.ar/1dzv6_venta_departamento_palermo_guemes_3600_balcon_suite_jardin_lavadero_luminoso_lujoso_dependencias_placard_doble-circulacion_subte-linea-d_luisio-propiedades-suc-virrey-del-pino-2378</td>\n",
       "      <td>PALERMO</td>\n",
       "      <td>14.0</td>\n",
       "      <td>False</td>\n",
       "    </tr>\n",
       "    <tr>\n",
       "      <td>19</td>\n",
       "      <td>2017-08-29</td>\n",
       "      <td>sell</td>\n",
       "      <td>apartment</td>\n",
       "      <td>|Argentina|Capital Federal|Palermo|</td>\n",
       "      <td>-34.5770327,-58.4233675</td>\n",
       "      <td>-34.577033</td>\n",
       "      <td>-58.423368</td>\n",
       "      <td>222000.00</td>\n",
       "      <td>52.0</td>\n",
       "      <td>48.0</td>\n",
       "      <td>4269.230769</td>\n",
       "      <td>NaN</td>\n",
       "      <td>1.0</td>\n",
       "      <td>NaN</td>\n",
       "      <td>https://www.properati.com.ar/1e05k_venta_departamento_palermo_juncal-al-4500_gimnasio_jardin_lavadero_parrilla_piscina_sum_aire-acondicionado_subte-linea-h_subte-linea-c_deptos-temporarios</td>\n",
       "      <td>PALERMO</td>\n",
       "      <td>14.0</td>\n",
       "      <td>False</td>\n",
       "    </tr>\n",
       "    <tr>\n",
       "      <td>22</td>\n",
       "      <td>2017-08-30</td>\n",
       "      <td>sell</td>\n",
       "      <td>house</td>\n",
       "      <td>|Argentina|Capital Federal|Palermo|Palermo Hollywood|</td>\n",
       "      <td>-34.5793535,-58.4364489</td>\n",
       "      <td>-34.579354</td>\n",
       "      <td>-58.436449</td>\n",
       "      <td>1200000.00</td>\n",
       "      <td>532.0</td>\n",
       "      <td>334.0</td>\n",
       "      <td>2255.639098</td>\n",
       "      <td>NaN</td>\n",
       "      <td>6.0</td>\n",
       "      <td>NaN</td>\n",
       "      <td>https://www.properati.com.ar/1e1ve_venta_casa_palermo-hollywood_jardin_lavadero_piscina_luminoso_vista_garage_nexo-propiedades_h0z</td>\n",
       "      <td>PALERMO</td>\n",
       "      <td>14.0</td>\n",
       "      <td>False</td>\n",
       "    </tr>\n",
       "    <tr>\n",
       "      <td>24</td>\n",
       "      <td>2017-08-30</td>\n",
       "      <td>sell</td>\n",
       "      <td>apartment</td>\n",
       "      <td>|Argentina|Capital Federal|Palermo|Palermo Hollywood|</td>\n",
       "      <td>-34.5809281,-58.4404321</td>\n",
       "      <td>-34.580928</td>\n",
       "      <td>-58.440432</td>\n",
       "      <td>270000.00</td>\n",
       "      <td>67.0</td>\n",
       "      <td>64.0</td>\n",
       "      <td>4029.850746</td>\n",
       "      <td>NaN</td>\n",
       "      <td>3.0</td>\n",
       "      <td>3900.0</td>\n",
       "      <td>https://www.properati.com.ar/1e1x0_venta_departamento_palermo-hollywood_arevalo_1700_balcon_toilette_luminoso_apto-credito-hipotecario_yankel-group</td>\n",
       "      <td>PALERMO</td>\n",
       "      <td>14.0</td>\n",
       "      <td>False</td>\n",
       "    </tr>\n",
       "    <tr>\n",
       "      <td>29</td>\n",
       "      <td>2017-08-30</td>\n",
       "      <td>sell</td>\n",
       "      <td>apartment</td>\n",
       "      <td>|Argentina|Capital Federal|Palermo|</td>\n",
       "      <td>-34.594251,-58.4166447</td>\n",
       "      <td>-34.594251</td>\n",
       "      <td>-58.416645</td>\n",
       "      <td>250000.00</td>\n",
       "      <td>67.0</td>\n",
       "      <td>60.0</td>\n",
       "      <td>3731.343284</td>\n",
       "      <td>NaN</td>\n",
       "      <td>2.0</td>\n",
       "      <td>NaN</td>\n",
       "      <td>https://www.properati.com.ar/1e2mz_venta_departamento_palermo_balcon_lavadero_parrilla_piscina_aire-acondicionado_apto-credito-hipotecario_ageo-propiedades_dwr</td>\n",
       "      <td>PALERMO</td>\n",
       "      <td>14.0</td>\n",
       "      <td>False</td>\n",
       "    </tr>\n",
       "    <tr>\n",
       "      <td>...</td>\n",
       "      <td>...</td>\n",
       "      <td>...</td>\n",
       "      <td>...</td>\n",
       "      <td>...</td>\n",
       "      <td>...</td>\n",
       "      <td>...</td>\n",
       "      <td>...</td>\n",
       "      <td>...</td>\n",
       "      <td>...</td>\n",
       "      <td>...</td>\n",
       "      <td>...</td>\n",
       "      <td>...</td>\n",
       "      <td>...</td>\n",
       "      <td>...</td>\n",
       "      <td>...</td>\n",
       "      <td>...</td>\n",
       "      <td>...</td>\n",
       "      <td>...</td>\n",
       "    </tr>\n",
       "    <tr>\n",
       "      <td>18973</td>\n",
       "      <td>2017-12-17</td>\n",
       "      <td>sell</td>\n",
       "      <td>apartment</td>\n",
       "      <td>|Argentina|Capital Federal|Villa Soldati|</td>\n",
       "      <td>-34.66897,-58.443897</td>\n",
       "      <td>-34.668970</td>\n",
       "      <td>-58.443897</td>\n",
       "      <td>49000.00</td>\n",
       "      <td>75.0</td>\n",
       "      <td>75.0</td>\n",
       "      <td>653.333333</td>\n",
       "      <td>NaN</td>\n",
       "      <td>4.0</td>\n",
       "      <td>NaN</td>\n",
       "      <td>https://www.properati.com.ar/1j22x_venta_departamento_villa-soldati_re-max-parque</td>\n",
       "      <td>VILLA SOLDATI</td>\n",
       "      <td>8.0</td>\n",
       "      <td>False</td>\n",
       "    </tr>\n",
       "    <tr>\n",
       "      <td>18974</td>\n",
       "      <td>2018-01-08</td>\n",
       "      <td>sell</td>\n",
       "      <td>apartment</td>\n",
       "      <td>|Argentina|Capital Federal|Villa Soldati|</td>\n",
       "      <td>-34.668741,-58.443146</td>\n",
       "      <td>-34.668741</td>\n",
       "      <td>-58.443146</td>\n",
       "      <td>60000.00</td>\n",
       "      <td>55.0</td>\n",
       "      <td>55.0</td>\n",
       "      <td>1090.909091</td>\n",
       "      <td>NaN</td>\n",
       "      <td>3.0</td>\n",
       "      <td>NaN</td>\n",
       "      <td>https://www.properati.com.ar/1jcpm_venta_departamento_villa-soldati_roca-cnel-av-_3500_subte-premetro_re-max-parque</td>\n",
       "      <td>VILLA SOLDATI</td>\n",
       "      <td>8.0</td>\n",
       "      <td>False</td>\n",
       "    </tr>\n",
       "    <tr>\n",
       "      <td>18975</td>\n",
       "      <td>2018-01-23</td>\n",
       "      <td>sell</td>\n",
       "      <td>house</td>\n",
       "      <td>|Argentina|Capital Federal|Villa Soldati|</td>\n",
       "      <td>-34.66417,-58.443317</td>\n",
       "      <td>-34.664170</td>\n",
       "      <td>-58.443317</td>\n",
       "      <td>99000.00</td>\n",
       "      <td>115.0</td>\n",
       "      <td>82.0</td>\n",
       "      <td>860.869565</td>\n",
       "      <td>NaN</td>\n",
       "      <td>3.0</td>\n",
       "      <td>NaN</td>\n",
       "      <td>https://www.properati.com.ar/1k1hs_venta_casa_villa-soldati_lavadero_parrilla_terraza_garage_placard_subte-premetro_re-max-acci-oacute-n</td>\n",
       "      <td>VILLA SOLDATI</td>\n",
       "      <td>8.0</td>\n",
       "      <td>False</td>\n",
       "    </tr>\n",
       "    <tr>\n",
       "      <td>18977</td>\n",
       "      <td>2018-01-27</td>\n",
       "      <td>sell</td>\n",
       "      <td>apartment</td>\n",
       "      <td>|Argentina|Capital Federal|Villa Soldati|</td>\n",
       "      <td>-34.665005,-58.443041</td>\n",
       "      <td>-34.665005</td>\n",
       "      <td>-58.443041</td>\n",
       "      <td>50433.01</td>\n",
       "      <td>45.0</td>\n",
       "      <td>45.0</td>\n",
       "      <td>1120.733556</td>\n",
       "      <td>NaN</td>\n",
       "      <td>3.0</td>\n",
       "      <td>NaN</td>\n",
       "      <td>https://www.properati.com.ar/1k5v0_venta_departamento_villa-soldati_lavadero_subte-premetro_re-max-ayres</td>\n",
       "      <td>VILLA SOLDATI</td>\n",
       "      <td>8.0</td>\n",
       "      <td>False</td>\n",
       "    </tr>\n",
       "    <tr>\n",
       "      <td>18978</td>\n",
       "      <td>2018-01-27</td>\n",
       "      <td>sell</td>\n",
       "      <td>apartment</td>\n",
       "      <td>|Argentina|Capital Federal|Villa Lugano|</td>\n",
       "      <td>-34.664283,-58.469604</td>\n",
       "      <td>-34.664283</td>\n",
       "      <td>-58.469604</td>\n",
       "      <td>75000.00</td>\n",
       "      <td>60.0</td>\n",
       "      <td>58.0</td>\n",
       "      <td>1250.000000</td>\n",
       "      <td>9.0</td>\n",
       "      <td>3.0</td>\n",
       "      <td>NaN</td>\n",
       "      <td>https://www.properati.com.ar/1k5x2_venta_departamento_villa-lugano_balcon_lavadero_sum_re-max-accion-ii</td>\n",
       "      <td>VILLA SOLDATI</td>\n",
       "      <td>8.0</td>\n",
       "      <td>False</td>\n",
       "    </tr>\n",
       "  </tbody>\n",
       "</table>\n",
       "<p>11975 rows × 18 columns</p>\n",
       "</div>"
      ],
      "text/plain": [
       "      created_on operation property_type  \\\n",
       "18    2017-08-29      sell     apartment   \n",
       "19    2017-08-29      sell     apartment   \n",
       "22    2017-08-30      sell         house   \n",
       "24    2017-08-30      sell     apartment   \n",
       "29    2017-08-30      sell     apartment   \n",
       "...          ...       ...           ...   \n",
       "18973 2017-12-17      sell     apartment   \n",
       "18974 2018-01-08      sell     apartment   \n",
       "18975 2018-01-23      sell         house   \n",
       "18977 2018-01-27      sell     apartment   \n",
       "18978 2018-01-27      sell     apartment   \n",
       "\n",
       "                                     place_with_parent_names  \\\n",
       "18                       |Argentina|Capital Federal|Palermo|   \n",
       "19                       |Argentina|Capital Federal|Palermo|   \n",
       "22     |Argentina|Capital Federal|Palermo|Palermo Hollywood|   \n",
       "24     |Argentina|Capital Federal|Palermo|Palermo Hollywood|   \n",
       "29                       |Argentina|Capital Federal|Palermo|   \n",
       "...                                                      ...   \n",
       "18973              |Argentina|Capital Federal|Villa Soldati|   \n",
       "18974              |Argentina|Capital Federal|Villa Soldati|   \n",
       "18975              |Argentina|Capital Federal|Villa Soldati|   \n",
       "18977              |Argentina|Capital Federal|Villa Soldati|   \n",
       "18978               |Argentina|Capital Federal|Villa Lugano|   \n",
       "\n",
       "                            lat-lon        lat        lon  price_aprox_usd  \\\n",
       "18     -34.588912403,-58.4134942185 -34.588912 -58.413494        340000.00   \n",
       "19          -34.5770327,-58.4233675 -34.577033 -58.423368        222000.00   \n",
       "22          -34.5793535,-58.4364489 -34.579354 -58.436449       1200000.00   \n",
       "24          -34.5809281,-58.4404321 -34.580928 -58.440432        270000.00   \n",
       "29           -34.594251,-58.4166447 -34.594251 -58.416645        250000.00   \n",
       "...                             ...        ...        ...              ...   \n",
       "18973          -34.66897,-58.443897 -34.668970 -58.443897         49000.00   \n",
       "18974         -34.668741,-58.443146 -34.668741 -58.443146         60000.00   \n",
       "18975          -34.66417,-58.443317 -34.664170 -58.443317         99000.00   \n",
       "18977         -34.665005,-58.443041 -34.665005 -58.443041         50433.01   \n",
       "18978         -34.664283,-58.469604 -34.664283 -58.469604         75000.00   \n",
       "\n",
       "       surface_total_in_m2  surface_covered_in_m2  price_usd_per_m2  floor  \\\n",
       "18                   130.0                  120.0       2615.384615    NaN   \n",
       "19                    52.0                   48.0       4269.230769    NaN   \n",
       "22                   532.0                  334.0       2255.639098    NaN   \n",
       "24                    67.0                   64.0       4029.850746    NaN   \n",
       "29                    67.0                   60.0       3731.343284    NaN   \n",
       "...                    ...                    ...               ...    ...   \n",
       "18973                 75.0                   75.0        653.333333    NaN   \n",
       "18974                 55.0                   55.0       1090.909091    NaN   \n",
       "18975                115.0                   82.0        860.869565    NaN   \n",
       "18977                 45.0                   45.0       1120.733556    NaN   \n",
       "18978                 60.0                   58.0       1250.000000    9.0   \n",
       "\n",
       "       rooms  expenses  \\\n",
       "18       4.0    8000.0   \n",
       "19       1.0       NaN   \n",
       "22       6.0       NaN   \n",
       "24       3.0    3900.0   \n",
       "29       2.0       NaN   \n",
       "...      ...       ...   \n",
       "18973    4.0       NaN   \n",
       "18974    3.0       NaN   \n",
       "18975    3.0       NaN   \n",
       "18977    3.0       NaN   \n",
       "18978    3.0       NaN   \n",
       "\n",
       "                                                                                                                                                                                                                 properati_url  \\\n",
       "18     https://www.properati.com.ar/1dzv6_venta_departamento_palermo_guemes_3600_balcon_suite_jardin_lavadero_luminoso_lujoso_dependencias_placard_doble-circulacion_subte-linea-d_luisio-propiedades-suc-virrey-del-pino-2378   \n",
       "19                                https://www.properati.com.ar/1e05k_venta_departamento_palermo_juncal-al-4500_gimnasio_jardin_lavadero_parrilla_piscina_sum_aire-acondicionado_subte-linea-h_subte-linea-c_deptos-temporarios   \n",
       "22                                                                                          https://www.properati.com.ar/1e1ve_venta_casa_palermo-hollywood_jardin_lavadero_piscina_luminoso_vista_garage_nexo-propiedades_h0z   \n",
       "24                                                                         https://www.properati.com.ar/1e1x0_venta_departamento_palermo-hollywood_arevalo_1700_balcon_toilette_luminoso_apto-credito-hipotecario_yankel-group   \n",
       "29                                                             https://www.properati.com.ar/1e2mz_venta_departamento_palermo_balcon_lavadero_parrilla_piscina_aire-acondicionado_apto-credito-hipotecario_ageo-propiedades_dwr   \n",
       "...                                                                                                                                                                                                                        ...   \n",
       "18973                                                                                                                                        https://www.properati.com.ar/1j22x_venta_departamento_villa-soldati_re-max-parque   \n",
       "18974                                                                                                      https://www.properati.com.ar/1jcpm_venta_departamento_villa-soldati_roca-cnel-av-_3500_subte-premetro_re-max-parque   \n",
       "18975                                                                                 https://www.properati.com.ar/1k1hs_venta_casa_villa-soldati_lavadero_parrilla_terraza_garage_placard_subte-premetro_re-max-acci-oacute-n   \n",
       "18977                                                                                                                 https://www.properati.com.ar/1k5v0_venta_departamento_villa-soldati_lavadero_subte-premetro_re-max-ayres   \n",
       "18978                                                                                                                  https://www.properati.com.ar/1k5x2_venta_departamento_villa-lugano_balcon_lavadero_sum_re-max-accion-ii   \n",
       "\n",
       "              barrio  comuna  wrong_surface_rows  \n",
       "18           PALERMO    14.0               False  \n",
       "19           PALERMO    14.0               False  \n",
       "22           PALERMO    14.0               False  \n",
       "24           PALERMO    14.0               False  \n",
       "29           PALERMO    14.0               False  \n",
       "...              ...     ...                 ...  \n",
       "18973  VILLA SOLDATI     8.0               False  \n",
       "18974  VILLA SOLDATI     8.0               False  \n",
       "18975  VILLA SOLDATI     8.0               False  \n",
       "18977  VILLA SOLDATI     8.0               False  \n",
       "18978  VILLA SOLDATI     8.0               False  \n",
       "\n",
       "[11975 rows x 18 columns]"
      ]
     },
     "execution_count": 41,
     "metadata": {},
     "output_type": "execute_result"
    }
   ],
   "source": [
    "# Mostrá en esta celda cuántas instancias tienen errores en la superficie\n",
    "wrong_surface_rows=df_filtered[df_filtered['surface_total_in_m2']<df_filtered['surface_covered_in_m2']]\n",
    "df_filtered"
   ]
  },
  {
   "cell_type": "code",
   "execution_count": 43,
   "metadata": {},
   "outputs": [
    {
     "data": {
      "text/plain": [
       "False    11902\n",
       "True        73\n",
       "Name: wrong_surface_rows, dtype: int64"
      ]
     },
     "execution_count": 43,
     "metadata": {},
     "output_type": "execute_result"
    }
   ],
   "source": [
    "df_filtered.wrong_surface_rows.value_counts()"
   ]
  },
  {
   "cell_type": "markdown",
   "metadata": {},
   "source": [
    "Son 73 instancias que cumplen con la condición mencionada"
   ]
  },
  {
   "cell_type": "markdown",
   "metadata": {},
   "source": [
    "Proponemos no borrar estas instancias erróneas, sino intercambiar los valores de **superficie total** con **superficie cubierta** en caso de que se cumpla la condición mencionada."
   ]
  },
  {
   "cell_type": "code",
   "execution_count": 42,
   "metadata": {},
   "outputs": [
    {
     "name": "stderr",
     "output_type": "stream",
     "text": [
      "/home/gr/anaconda3/lib/python3.7/site-packages/pandas/core/indexing.py:494: SettingWithCopyWarning: \n",
      "A value is trying to be set on a copy of a slice from a DataFrame.\n",
      "Try using .loc[row_indexer,col_indexer] = value instead\n",
      "\n",
      "See the caveats in the documentation: http://pandas.pydata.org/pandas-docs/stable/user_guide/indexing.html#returning-a-view-versus-a-copy\n",
      "  self.obj[item] = s\n"
     ]
    }
   ],
   "source": [
    "df_filtered.at[wrong_surface_rows.index, 'surface_total_in_m2'] = wrong_surface_rows.surface_covered_in_m2\n",
    "df_filtered.at[wrong_surface_rows.index, 'surface_covered_in_m2'] = wrong_surface_rows.surface_total_in_m2"
   ]
  },
  {
   "cell_type": "markdown",
   "metadata": {},
   "source": [
    "Por otro lado, sucede que las inmobiliarias cuando no cuentan con las coordenadas reales de las propiedades utilizan valores que no son correctos. Por ejemplo, el punto centro de cada barrio o puntos de interés como el Obelisco. Esto puede afectar el análisis relacionado con la ubicación de cada propiedad.\n",
    "\n",
    "Veamos en primer lugar si hay coordenadas que se repiten."
   ]
  },
  {
   "cell_type": "code",
   "execution_count": 44,
   "metadata": {},
   "outputs": [
    {
     "data": {
      "text/plain": [
       "lat         lon       \n",
       "-34.589546  -58.397364    149\n",
       "-34.571150  -58.423297    118\n",
       "-34.562084  -58.456686     77\n",
       "-34.620928  -58.445874     45\n",
       "-34.609821  -58.392606     36\n",
       "-34.597679  -58.443019     31\n",
       "-34.617719  -58.362056     31\n",
       "-34.621184  -58.373116     31\n",
       "-34.610122  -58.405941     31\n",
       "-34.598647  -58.439018     29\n",
       "dtype: int64"
      ]
     },
     "execution_count": 44,
     "metadata": {},
     "output_type": "execute_result"
    }
   ],
   "source": [
    "conteo_puntos = df_filtered.groupby(['lat', 'lon']).size()\n",
    "conteo_puntos[conteo_puntos > 1].sort_values(ascending=False).head(10)"
   ]
  },
  {
   "cell_type": "markdown",
   "metadata": {},
   "source": [
    "Por ejemplo, para el caso del tercer punto, se puede verificar que corresponde a la esquina de Av. Cabildo y Juramento.\n",
    "Nos quedamos entonces con las propiedades con coordenadas que se repitan hasta 5 veces."
   ]
  },
  {
   "cell_type": "code",
   "execution_count": 45,
   "metadata": {},
   "outputs": [],
   "source": [
    "conteo_puntos.name = 'conteo'\n",
    "\n",
    "df_filtered = df_filtered.join(conteo_puntos, on=['lat', 'lon'])\n",
    "\n",
    "df_filtered = df_filtered[df_filtered.conteo <= 5]"
   ]
  },
  {
   "cell_type": "markdown",
   "metadata": {},
   "source": [
    "Eliminamos el atributo `conteo` dado que ya no nos sirve."
   ]
  },
  {
   "cell_type": "code",
   "execution_count": 46,
   "metadata": {},
   "outputs": [],
   "source": [
    "df_filtered.drop('conteo', inplace=True, axis=1)"
   ]
  },
  {
   "cell_type": "markdown",
   "metadata": {},
   "source": [
    "## Estudiando los barrios"
   ]
  },
  {
   "cell_type": "markdown",
   "metadata": {},
   "source": [
    "### Barrios con más edificios y barrios con más casas\n",
    "Al saber qué barrios son los que tienen más cantidad de edificios en venta y cuáles son los que tienen más casas podemos darnos una idea de qué tipo de barrio es. Si es más residencial, con más población, poder adquisitivo, etc. \n",
    "Para eso vamos a empezar calculando los porcentajes de cada tipo de propiedad según el barrio."
   ]
  },
  {
   "cell_type": "code",
   "execution_count": 47,
   "metadata": {},
   "outputs": [],
   "source": [
    "total_propiedades = df_filtered.groupby('barrio')['property_type'].count().values"
   ]
  },
  {
   "cell_type": "code",
   "execution_count": 48,
   "metadata": {},
   "outputs": [],
   "source": [
    "porcentaje_casas_ph = df_filtered[df_filtered.property_type.isin(['PH', 'house'])].groupby('barrio').count().property_type/total_propiedades\n",
    "porcentaje_edificios = df_filtered[df_filtered.property_type == 'apartment'].groupby('barrio').count().property_type/total_propiedades"
   ]
  },
  {
   "cell_type": "code",
   "execution_count": 49,
   "metadata": {},
   "outputs": [
    {
     "name": "stdout",
     "output_type": "stream",
     "text": [
      "Barrios con mayor porcentaje de edificios: \n",
      " barrio\n",
      "PUERTO MADERO    0.995238\n",
      "RETIRO           0.992647\n",
      "SAN NICOLAS      0.989011\n",
      "RECOLETA         0.987342\n",
      "BELGRANO         0.952446\n",
      "Name: property_type, dtype: float64\n",
      "Barrios con mayor porcentaje de casas y phs: \n",
      "  barrio\n",
      "VERSALLES            0.622222\n",
      "MATADEROS            0.612500\n",
      "PARQUE AVELLANEDA    0.560606\n",
      "VILLA RIACHUELO      0.555556\n",
      "VILLA REAL           0.500000\n",
      "Name: property_type, dtype: float64\n"
     ]
    }
   ],
   "source": [
    "print(\"Barrios con mayor porcentaje de edificios: \\n\", porcentaje_edificios.sort_values()[::-1][:5])\n",
    "print(\"Barrios con mayor porcentaje de casas y phs: \\n \", porcentaje_casas_ph.sort_values()[::-1][:5])"
   ]
  },
  {
   "cell_type": "markdown",
   "metadata": {},
   "source": [
    "Para darnos una idea de las diferencias entre los porcentajes de edificios y casas en estos barrios, vamos a graficarlos\n",
    "en forma de torta."
   ]
  },
  {
   "cell_type": "code",
   "execution_count": 50,
   "metadata": {},
   "outputs": [
    {
     "data": {
      "text/plain": [
       "<matplotlib.axes._subplots.AxesSubplot at 0x7fbe1ffe1c10>"
      ]
     },
     "execution_count": 50,
     "metadata": {},
     "output_type": "execute_result"
    },
    {
     "data": {
      "image/png": "[encoded data removed]",
      "text/plain": [
       "<Figure size 1008x504 with 2 Axes>"
      ]
     },
     "metadata": {},
     "output_type": "display_data"
    }
   ],
   "source": [
    "barrios_casas = porcentaje_casas_ph.sort_values()[::-1][:5].index\n",
    "barrios_edificios = porcentaje_edificios.sort_values()[::-1][:5].index\n",
    "fig, axs = plt.subplots(1,2,figsize=(14,7))\n",
    "df_filtered[df_filtered.barrio.isin(barrios_edificios)].property_type.value_counts().plot(x=None,y=None, kind='pie', startangle=30, ax=axs[0],autopct='%1.2f%%')\n",
    "df_filtered[df_filtered.barrio.isin(barrios_casas)].property_type.value_counts().plot(x=None,y=None, kind='pie', ax=axs[1],autopct='%1.2f%%')"
   ]
  },
  {
   "cell_type": "markdown",
   "metadata": {},
   "source": [
    "### Barrios más caros y más baratos"
   ]
  },
  {
   "cell_type": "markdown",
   "metadata": {},
   "source": [
    "Veamos primero la distribución del precio por metro cuadrado para todo el dataset. De esta manera, vamos a remover valores que consideremos extremos.\n",
    "\n",
    "En el siguiente proyecto vamos a volver sobre este tema con más profundidad.\n",
    "\n",
    "**10)** Tomando el atributo `price_usd_per_m2` **calculá** su **mínimo**, **máximo**, **promedio (mean)**, **mediana (median)** y **desvío estándar (std)**"
   ]
  },
  {
   "cell_type": "code",
   "execution_count": 51,
   "metadata": {},
   "outputs": [
    {
     "data": {
      "text/plain": [
       "0.9583333333333334"
      ]
     },
     "execution_count": 51,
     "metadata": {},
     "output_type": "execute_result"
    }
   ],
   "source": [
    "# Mostrá en esta celda los cálculos\n",
    "df_filtered['price_usd_per_m2'].min()"
   ]
  },
  {
   "cell_type": "code",
   "execution_count": 52,
   "metadata": {},
   "outputs": [
    {
     "data": {
      "text/plain": [
       "142450.14102564106"
      ]
     },
     "execution_count": 52,
     "metadata": {},
     "output_type": "execute_result"
    }
   ],
   "source": [
    "df_filtered['price_usd_per_m2'].max()"
   ]
  },
  {
   "cell_type": "code",
   "execution_count": 53,
   "metadata": {},
   "outputs": [
    {
     "data": {
      "text/plain": [
       "2785.6551438537067"
      ]
     },
     "execution_count": 53,
     "metadata": {},
     "output_type": "execute_result"
    }
   ],
   "source": [
    "df_filtered['price_usd_per_m2'].mean()"
   ]
  },
  {
   "cell_type": "code",
   "execution_count": 54,
   "metadata": {},
   "outputs": [
    {
     "data": {
      "text/plain": [
       "2588.2352941176473"
      ]
     },
     "execution_count": 54,
     "metadata": {},
     "output_type": "execute_result"
    }
   ],
   "source": [
    "df_filtered['price_usd_per_m2'].median()"
   ]
  },
  {
   "cell_type": "code",
   "execution_count": 55,
   "metadata": {},
   "outputs": [
    {
     "data": {
      "text/plain": [
       "1997.7721743224924"
      ]
     },
     "execution_count": 55,
     "metadata": {},
     "output_type": "execute_result"
    }
   ],
   "source": [
    "df_filtered['price_usd_per_m2'].std()"
   ]
  },
  {
   "cell_type": "markdown",
   "metadata": {},
   "source": [
    "También podemos calcular otros estadísticos como los cuartiles. \n",
    "\n",
    "**11) Mostrá** el **primer y tercer cuartil** y luego también el **rango intercuartilíco**"
   ]
  },
  {
   "cell_type": "code",
   "execution_count": 56,
   "metadata": {},
   "outputs": [
    {
     "data": {
      "text/plain": [
       "0.25    2039.289915\n",
       "0.75    3203.982564\n",
       "Name: price_usd_per_m2, dtype: float64"
      ]
     },
     "execution_count": 56,
     "metadata": {},
     "output_type": "execute_result"
    }
   ],
   "source": [
    "# Mostrá los cuartiles en esta celda\n",
    "df_filtered['price_usd_per_m2'].quantile([0.25,0.75])"
   ]
  },
  {
   "cell_type": "code",
   "execution_count": 57,
   "metadata": {},
   "outputs": [
    {
     "data": {
      "text/plain": [
       "1164.6926491683844"
      ]
     },
     "execution_count": 57,
     "metadata": {},
     "output_type": "execute_result"
    }
   ],
   "source": [
    "iqr=df_filtered['price_usd_per_m2'].quantile(0.75)-df_filtered['price_usd_per_m2'].quantile(0.25)\n",
    "iqr"
   ]
  },
  {
   "cell_type": "markdown",
   "metadata": {},
   "source": [
    "### Quitando valores extremos\n",
    "Eliminemos aquellas observaciones cuyo precio por metro cuadrado este fuera de los percentiles 10 y 90. De este modo intentaremos remover valores extremos de una manera sencilla para tener un análisis más robusto."
   ]
  },
  {
   "cell_type": "code",
   "execution_count": 58,
   "metadata": {},
   "outputs": [],
   "source": [
    "p10 = np.percentile(df_filtered.price_usd_per_m2, 10)\n",
    "p90 = np.percentile(df_filtered.price_usd_per_m2, 90)\n",
    "df_filtered = df_filtered[(df_filtered.price_usd_per_m2 >= p10) & (df_filtered.price_usd_per_m2 <= p90)]"
   ]
  },
  {
   "cell_type": "markdown",
   "metadata": {},
   "source": [
    "A partir de quitar estos valores van a cambiar los estadísticos que calculamos.\n",
    "\n",
    "**12) Volvé a calcular** los mismos estadísticos (min, max, promedio, etc) para ver los cambios.\n",
    "¿Por qué será que la **mediana** no cambia?"
   ]
  },
  {
   "cell_type": "code",
   "execution_count": 59,
   "metadata": {},
   "outputs": [
    {
     "data": {
      "text/plain": [
       "1552.9411764705883"
      ]
     },
     "execution_count": 59,
     "metadata": {},
     "output_type": "execute_result"
    }
   ],
   "source": [
    "# Realizá los calculos en esta celda\n",
    "df_filtered['price_usd_per_m2'].min()"
   ]
  },
  {
   "cell_type": "code",
   "execution_count": 60,
   "metadata": {},
   "outputs": [
    {
     "data": {
      "text/plain": [
       "4095.890410958904"
      ]
     },
     "execution_count": 60,
     "metadata": {},
     "output_type": "execute_result"
    }
   ],
   "source": [
    "df_filtered['price_usd_per_m2'].max()"
   ]
  },
  {
   "cell_type": "code",
   "execution_count": 61,
   "metadata": {},
   "outputs": [
    {
     "data": {
      "text/plain": [
       "2632.2125686918466"
      ]
     },
     "execution_count": 61,
     "metadata": {},
     "output_type": "execute_result"
    }
   ],
   "source": [
    "df_filtered['price_usd_per_m2'].mean()"
   ]
  },
  {
   "cell_type": "code",
   "execution_count": 62,
   "metadata": {},
   "outputs": [
    {
     "data": {
      "text/plain": [
       "2588.2352941176473"
      ]
     },
     "execution_count": 62,
     "metadata": {},
     "output_type": "execute_result"
    }
   ],
   "source": [
    "df_filtered['price_usd_per_m2'].median()"
   ]
  },
  {
   "cell_type": "code",
   "execution_count": 63,
   "metadata": {},
   "outputs": [
    {
     "data": {
      "text/plain": [
       "607.7151385906491"
      ]
     },
     "execution_count": 63,
     "metadata": {},
     "output_type": "execute_result"
    }
   ],
   "source": [
    "df_filtered['price_usd_per_m2'].std()"
   ]
  },
  {
   "cell_type": "markdown",
   "metadata": {},
   "source": [
    "La mediana no cambia porque al ser una medida de posición que indica dónde se divide al conjunto de datos en dos, no se ve tan influenciada por valores extremos (a diferencia de la media, por ejemplo)."
   ]
  },
  {
   "cell_type": "markdown",
   "metadata": {},
   "source": [
    "Vamos a graficar ahora los barrios según el precio por metro cuadrado."
   ]
  },
  {
   "cell_type": "code",
   "execution_count": 64,
   "metadata": {},
   "outputs": [
    {
     "data": {
      "image/png": "[encoded data removed]",
      "text/plain": [
       "<Figure size 864x576 with 1 Axes>"
      ]
     },
     "metadata": {
      "needs_background": "light"
     },
     "output_type": "display_data"
    }
   ],
   "source": [
    "plt.xticks(rotation = 90)\n",
    "barrios = df_filtered.groupby('barrio').mean().sort_values('price_usd_per_m2', ascending=False).index\n",
    "sns.barplot(x=\"barrio\", y=\"price_usd_per_m2\", order=barrios, data=df_filtered);"
   ]
  },
  {
   "cell_type": "markdown",
   "metadata": {},
   "source": [
    "#### Más caros"
   ]
  },
  {
   "cell_type": "code",
   "execution_count": 65,
   "metadata": {},
   "outputs": [
    {
     "data": {
      "text/html": [
       "<div>\n",
       "<style scoped>\n",
       "    .dataframe tbody tr th:only-of-type {\n",
       "        vertical-align: middle;\n",
       "    }\n",
       "\n",
       "    .dataframe tbody tr th {\n",
       "        vertical-align: top;\n",
       "    }\n",
       "\n",
       "    .dataframe thead th {\n",
       "        text-align: right;\n",
       "    }\n",
       "</style>\n",
       "<table border=\"1\" class=\"dataframe\">\n",
       "  <thead>\n",
       "    <tr style=\"text-align: right;\">\n",
       "      <th></th>\n",
       "      <th>price_usd_per_m2</th>\n",
       "    </tr>\n",
       "    <tr>\n",
       "      <th>barrio</th>\n",
       "      <th></th>\n",
       "    </tr>\n",
       "  </thead>\n",
       "  <tbody>\n",
       "    <tr>\n",
       "      <td>PUERTO MADERO</td>\n",
       "      <td>6156.633183</td>\n",
       "    </tr>\n",
       "    <tr>\n",
       "      <td>PALERMO</td>\n",
       "      <td>3632.057960</td>\n",
       "    </tr>\n",
       "    <tr>\n",
       "      <td>RETIRO</td>\n",
       "      <td>3417.635657</td>\n",
       "    </tr>\n",
       "    <tr>\n",
       "      <td>RECOLETA</td>\n",
       "      <td>3346.748987</td>\n",
       "    </tr>\n",
       "    <tr>\n",
       "      <td>BELGRANO</td>\n",
       "      <td>3338.725206</td>\n",
       "    </tr>\n",
       "  </tbody>\n",
       "</table>\n",
       "</div>"
      ],
      "text/plain": [
       "               price_usd_per_m2\n",
       "barrio                         \n",
       "PUERTO MADERO       6156.633183\n",
       "PALERMO             3632.057960\n",
       "RETIRO              3417.635657\n",
       "RECOLETA            3346.748987\n",
       "BELGRANO            3338.725206"
      ]
     },
     "execution_count": 65,
     "metadata": {},
     "output_type": "execute_result"
    }
   ],
   "source": [
    "table = pd.pivot_table(df, values='price_usd_per_m2', index=['barrio'], aggfunc=np.mean)\n",
    "mas_caros = table.sort_values('price_usd_per_m2', ascending=False).iloc[:5]\n",
    "mas_caros"
   ]
  },
  {
   "cell_type": "markdown",
   "metadata": {},
   "source": [
    "#### Más baratos"
   ]
  },
  {
   "cell_type": "code",
   "execution_count": 66,
   "metadata": {},
   "outputs": [
    {
     "data": {
      "text/html": [
       "<div>\n",
       "<style scoped>\n",
       "    .dataframe tbody tr th:only-of-type {\n",
       "        vertical-align: middle;\n",
       "    }\n",
       "\n",
       "    .dataframe tbody tr th {\n",
       "        vertical-align: top;\n",
       "    }\n",
       "\n",
       "    .dataframe thead th {\n",
       "        text-align: right;\n",
       "    }\n",
       "</style>\n",
       "<table border=\"1\" class=\"dataframe\">\n",
       "  <thead>\n",
       "    <tr style=\"text-align: right;\">\n",
       "      <th></th>\n",
       "      <th>price_usd_per_m2</th>\n",
       "    </tr>\n",
       "    <tr>\n",
       "      <th>barrio</th>\n",
       "      <th></th>\n",
       "    </tr>\n",
       "  </thead>\n",
       "  <tbody>\n",
       "    <tr>\n",
       "      <td>VILLA SOLDATI</td>\n",
       "      <td>920.825753</td>\n",
       "    </tr>\n",
       "    <tr>\n",
       "      <td>VILLA LUGANO</td>\n",
       "      <td>1179.846071</td>\n",
       "    </tr>\n",
       "    <tr>\n",
       "      <td>VILLA RIACHUELO</td>\n",
       "      <td>1274.809950</td>\n",
       "    </tr>\n",
       "    <tr>\n",
       "      <td>PARQUE AVELLANEDA</td>\n",
       "      <td>1386.260577</td>\n",
       "    </tr>\n",
       "    <tr>\n",
       "      <td>NUEVA POMPEYA</td>\n",
       "      <td>1539.235869</td>\n",
       "    </tr>\n",
       "  </tbody>\n",
       "</table>\n",
       "</div>"
      ],
      "text/plain": [
       "                   price_usd_per_m2\n",
       "barrio                             \n",
       "VILLA SOLDATI            920.825753\n",
       "VILLA LUGANO            1179.846071\n",
       "VILLA RIACHUELO         1274.809950\n",
       "PARQUE AVELLANEDA       1386.260577\n",
       "NUEVA POMPEYA           1539.235869"
      ]
     },
     "execution_count": 66,
     "metadata": {},
     "output_type": "execute_result"
    }
   ],
   "source": [
    "table = pd.pivot_table(df, values='price_usd_per_m2', index=['barrio'], aggfunc=np.mean)\n",
    "mas_baratos = table.sort_values('price_usd_per_m2', ascending=True).iloc[:5]\n",
    "mas_baratos"
   ]
  },
  {
   "cell_type": "markdown",
   "metadata": {},
   "source": [
    "## Graficando propiedades de los barrios\n",
    "\n",
    "Ahora que ya sabemos cuales son los barrios más caros y cuales son los más baratos vamos a ver algunas comparaciones gráficas para entender mejor sus diferencias en diferentes atributos del dataset. Vamos a ver las distribuciones según:\n",
    "- Superficie total en m2\n",
    "- Cuartos totales \n",
    "- Precio en dolares por m2"
   ]
  },
  {
   "cell_type": "code",
   "execution_count": 67,
   "metadata": {},
   "outputs": [],
   "source": [
    "barrios_caros = mas_caros.index \n",
    "barrios_baratos = mas_baratos.index"
   ]
  },
  {
   "cell_type": "code",
   "execution_count": 68,
   "metadata": {},
   "outputs": [
    {
     "data": {
      "text/plain": [
       "<matplotlib.legend.Legend at 0x7fbe1d911710>"
      ]
     },
     "execution_count": 68,
     "metadata": {},
     "output_type": "execute_result"
    },
    {
     "data": {
      "image/png": "[encoded data removed]",
      "text/plain": [
       "<Figure size 864x576 with 1 Axes>"
      ]
     },
     "metadata": {
      "needs_background": "light"
     },
     "output_type": "display_data"
    }
   ],
   "source": [
    "g = sns.distplot(df_filtered[df_filtered.barrio.isin(barrios_baratos)].surface_total_in_m2, label=\"Barrios baratos\")\n",
    "sns.distplot(df_filtered[df_filtered.barrio.isin(barrios_caros)].surface_total_in_m2, label=\"Barrios caros\")\n",
    "g.set_xlim(0, 400)\n",
    "plt.legend()"
   ]
  },
  {
   "cell_type": "code",
   "execution_count": 69,
   "metadata": {},
   "outputs": [
    {
     "data": {
      "text/plain": [
       "<matplotlib.legend.Legend at 0x7fbe1d79bf10>"
      ]
     },
     "execution_count": 69,
     "metadata": {},
     "output_type": "execute_result"
    },
    {
     "data": {
      "image/png": "[encoded data removed]",
      "text/plain": [
       "<Figure size 864x576 with 1 Axes>"
      ]
     },
     "metadata": {
      "needs_background": "light"
     },
     "output_type": "display_data"
    }
   ],
   "source": [
    "g = sns.distplot(df_filtered[df_filtered.barrio.isin(barrios_baratos)].rooms, label=\"Barrios baratos\")\n",
    "sns.distplot(df_filtered[df_filtered.barrio.isin(barrios_caros)].rooms, label=\"Barrios caros\")\n",
    "g.set_xlim(0, 10)\n",
    "plt.legend()"
   ]
  },
  {
   "cell_type": "code",
   "execution_count": 70,
   "metadata": {},
   "outputs": [
    {
     "data": {
      "text/plain": [
       "<matplotlib.legend.Legend at 0x7fbe1d72ea90>"
      ]
     },
     "execution_count": 70,
     "metadata": {},
     "output_type": "execute_result"
    },
    {
     "data": {
      "image/png": "[encoded data removed]",
      "text/plain": [
       "<Figure size 864x576 with 1 Axes>"
      ]
     },
     "metadata": {
      "needs_background": "light"
     },
     "output_type": "display_data"
    }
   ],
   "source": [
    "g = sns.distplot(df_filtered[df_filtered.barrio.isin(barrios_baratos)].price_usd_per_m2, label=\"Barrios baratos\")\n",
    "sns.distplot(df_filtered[df_filtered.barrio.isin(barrios_caros)].price_usd_per_m2, label=\"Barrios caros\")\n",
    "plt.legend()"
   ]
  },
  {
   "cell_type": "markdown",
   "metadata": {},
   "source": [
    "### Barrios que quieren ser otros"
   ]
  },
  {
   "cell_type": "markdown",
   "metadata": {},
   "source": [
    "Basado en información de mercado, desde el portal Properati han señalado que las inmobiliarias suelen publicar las propiedades ubicadas en barrios que no necesariamente se corresponden con la ubicación geográfica real. Según mencionan en la nota ([blog)](http://blog.properati.com.ar/barrios-que-quieren-ser-otros/), esto corresponde a una lógica comercial en el corredor norte y a usos y costumbres en zona oeste.\n",
    "\n",
    "Analicemos qué sucede para nuestro dataset."
   ]
  },
  {
   "cell_type": "markdown",
   "metadata": {},
   "source": [
    "Dada la estructura del atributo `place_with_parent_names`, en primer lugar vamos a extraer el campo asociado al barrio publicado para poder comparar con el que surge de la cartografía oficial. Esto lo vamos a agregar en una nueva columna llamada `barrio_publicado`. \n",
    "\n",
    "De este modo, lo que vamos a analizar es como se relacionan las columnas `barrio` y `barrio publicado`. Si efectivamente hay barrios que quieren ser otros, esperaríamos ver propiedades ubicadas en geográficamente en un barrio distinto al que dice la publicación. Por ejemplo, si una propiedad está ubicada (dadas sus coordenadas) en Villa Crespo pero en la publicación dice Palermo, entonces decimos que hay indicios que Villa Crespo quiere ser Palermo.\n",
    "\n",
    "Viendo la estructura de este atributo, podemos notar que se compone por una sequencia de lugares separados por `|`. Por ejemplo, en `|Argentina|Capital Federal|Palermo|` vemos que primero está el país, luego la ciudad, luego el barrio y en algunos casos hay una jerarquía más, relacionado con zonas dentro del barrio (como Palermo Soho dentro de Palermo). \n",
    "\n",
    "De este modo, una estrategia posible para resolver esto es separar las jerarquías por `|` y extraer el elemento asociado al barrio. Por ejemplo, para `|Argentina|Capital Federal|Palermo|` queda `['', 'Argentina', 'Capital Federal', 'Palermo', '']`. Extrayendo el tercer elemento obtendremos el barrio independientemente de si hay lugares luego en la jerarquía. Aquellos que no tengan barrio no serán considerados puesto que estarían ubicados en Capital Federal y no sería informativo.\n",
    "\n",
    "Lo pasamos a mayúsculas y quitamos las tildes para poder comparar con el barrio oficial."
   ]
  },
  {
   "cell_type": "code",
   "execution_count": 71,
   "metadata": {},
   "outputs": [
    {
     "data": {
      "text/plain": [
       "array([5, 6, 4])"
      ]
     },
     "execution_count": 71,
     "metadata": {},
     "output_type": "execute_result"
    }
   ],
   "source": [
    "df_filtered['place_with_parent_names'].apply(lambda x: len(x.split(\"|\"))).unique()"
   ]
  },
  {
   "cell_type": "markdown",
   "metadata": {},
   "source": [
    "Como algunos tienen 4 elementos, debemos quitarlos."
   ]
  },
  {
   "cell_type": "code",
   "execution_count": 72,
   "metadata": {},
   "outputs": [],
   "source": [
    "split_place_filter = df_filtered['place_with_parent_names'].apply(lambda x: len(x.split(\"|\"))!=4)\n",
    "df_filtered = df_filtered.loc[split_place_filter]"
   ]
  },
  {
   "cell_type": "code",
   "execution_count": 73,
   "metadata": {},
   "outputs": [],
   "source": [
    "df_filtered['barrio_publicado'] = df_filtered['place_with_parent_names'].apply( lambda x: x.split(\"|\")[3].upper())\n",
    "df_filtered['barrio_publicado'] = df_filtered['barrio_publicado'].str.normalize('NFKD').str.encode('ascii', errors='ignore').str.decode('utf-8')"
   ]
  },
  {
   "cell_type": "markdown",
   "metadata": {},
   "source": [
    "Comparemos entonces el barrio publicado con el real. Nos vamos a quedar con aquellas propiedades donde nos coincidan para luego hacer el conteo por barrio."
   ]
  },
  {
   "cell_type": "code",
   "execution_count": 74,
   "metadata": {},
   "outputs": [],
   "source": [
    "barrios_match = (df_filtered['barrio_publicado'] != df_filtered['barrio'])\n",
    "df_filtered_barrio_not_match = df_filtered.loc[barrios_match]"
   ]
  },
  {
   "cell_type": "markdown",
   "metadata": {},
   "source": [
    "Con una tabla de doble entrada podemos identificar para cada barrio cuál es al que más quiere parecerse."
   ]
  },
  {
   "cell_type": "code",
   "execution_count": 75,
   "metadata": {},
   "outputs": [
    {
     "data": {
      "text/plain": [
       "barrio\n",
       "AGRONOMIA                VILLA PUEYRREDON\n",
       "ALMAGRO                         CABALLITO\n",
       "BALVANERA                            ONCE\n",
       "BARRACAS                        SAN TELMO\n",
       "BELGRANO                            NUNEZ\n",
       "BOCA                             BARRACAS\n",
       "BOEDO                             ALMAGRO\n",
       "CABALLITO               PARQUE CENTENARIO\n",
       "CHACARITA                      COLEGIALES\n",
       "COGHLAN                          BELGRANO\n",
       "COLEGIALES                       BELGRANO\n",
       "CONSTITUCION                    SAN TELMO\n",
       "FLORES                          CABALLITO\n",
       "FLORESTA                           FLORES\n",
       "LINIERS                         VERSALLES\n",
       "MATADEROS                      VILLA LURO\n",
       "MONSERRAT                       SAN TELMO\n",
       "MONTE CASTRO                 VILLA DEVOTO\n",
       "NUEVA POMPEYA            PARQUE PATRICIOS\n",
       "NUEZ                                NUNEZ\n",
       "PALERMO                          BELGRANO\n",
       "PARQUE AVELLANEDA                FLORESTA\n",
       "PARQUE CHACABUCO                CABALLITO\n",
       "PARQUE CHAS                 VILLA URQUIZA\n",
       "PARQUE PATRICIOS                    BOEDO\n",
       "PATERNAL                        AGRONOMIA\n",
       "RECOLETA                     BARRIO NORTE\n",
       "RETIRO                           RECOLETA\n",
       "SAAVEDRA                            NUNEZ\n",
       "SAN CRISTOBAL                       BOEDO\n",
       "SAN NICOLAS          CENTRO / MICROCENTRO\n",
       "SAN TELMO                        BARRACAS\n",
       "VELEZ SARSFIELD                  FLORESTA\n",
       "VILLA CRESPO                      PALERMO\n",
       "VILLA DEL PARQUE             VILLA DEVOTO\n",
       "VILLA DEVOTO             VILLA PUEYRREDON\n",
       "VILLA GRAL. MITRE     VILLA GENERAL MITRE\n",
       "VILLA LURO                      VERSALLES\n",
       "VILLA ORTUZAR               VILLA URQUIZA\n",
       "VILLA PUEYRREDON             VILLA DEVOTO\n",
       "VILLA REAL                      VERSALLES\n",
       "VILLA RIACHUELO              VILLA LUGANO\n",
       "VILLA SANTA RITA         VILLA DEL PARQUE\n",
       "VILLA SOLDATI                VILLA LUGANO\n",
       "VILLA URQUIZA                    BELGRANO\n",
       "dtype: object"
      ]
     },
     "execution_count": 75,
     "metadata": {},
     "output_type": "execute_result"
    }
   ],
   "source": [
    "table = pd.crosstab(df_filtered_barrio_not_match.barrio, df_filtered_barrio_not_match.barrio_publicado)\n",
    "table.idxmax(axis=1)"
   ]
  },
  {
   "cell_type": "markdown",
   "metadata": {},
   "source": [
    "Podemos ver entonces que los barrios tienden a querer parecerse a barrios con precio con metro cuadrado más caro. Por ejemplo Villa Crespo con Palermo, Constitución con San Telmo y Villa Urquiza con Belgrano. \n",
    "\n",
    "Por otro lado, vemos también que los barrios suelen querer parecerse a sus barrios vecinos."
   ]
  }
 ],
 "metadata": {
  "kernelspec": {
   "display_name": "Python 3 (ipykernel)",
   "language": "python",
   "name": "python3"
  },
  "language_info": {
   "codemirror_mode": {
    "name": "ipython",
    "version": 3
   },
   "file_extension": ".py",
   "mimetype": "text/x-python",
   "name": "python",
   "nbconvert_exporter": "python",
   "pygments_lexer": "ipython3",
   "version": "3.10.10"
  }
 },
 "nbformat": 4,
 "nbformat_minor": 4
}
